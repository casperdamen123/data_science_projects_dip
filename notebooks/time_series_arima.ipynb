{
 "cells": [
  {
   "cell_type": "markdown",
   "metadata": {},
   "source": [
    "# Time series - Forecasting with ARIMA\n",
    "Adapted from: https://www.machinelearningplus.com/time-series/arima-model-time-series-forecasting-python/"
   ]
  },
  {
   "cell_type": "markdown",
   "metadata": {},
   "source": [
    "**Import libraries & load data**"
   ]
  },
  {
   "cell_type": "code",
   "execution_count": 3,
   "metadata": {},
   "outputs": [],
   "source": [
    "#Import libraries\n",
    "import pandas as pd\n",
    "import numpy as np\n",
    "import seaborn as sns\n",
    "import os\n",
    "import matplotlib.pyplot as plt\n",
    "import matplotlib.dates as mdates\n",
    "import datetime as dt\n",
    "%matplotlib inline"
   ]
  },
  {
   "cell_type": "code",
   "execution_count": 4,
   "metadata": {},
   "outputs": [
    {
     "data": {
      "text/plain": [
       "'C:\\\\Users\\\\Casper Damen\\\\DiP\\\\Python klasje\\\\notebooks'"
      ]
     },
     "execution_count": 4,
     "metadata": {},
     "output_type": "execute_result"
    }
   ],
   "source": [
    "#Get working directory\n",
    "os.getcwd()"
   ]
  },
  {
   "cell_type": "code",
   "execution_count": 5,
   "metadata": {},
   "outputs": [],
   "source": [
    "#Set working directory\n",
    "os.chdir('C:\\\\Users\\\\Casper Damen\\\\DiP\\\\Python klasje\\\\data')"
   ]
  },
  {
   "cell_type": "code",
   "execution_count": 6,
   "metadata": {},
   "outputs": [],
   "source": [
    "df = pd.read_csv('zoekopdracten_jan2019_july2020.csv')"
   ]
  },
  {
   "cell_type": "code",
   "execution_count": 7,
   "metadata": {
    "scrolled": true
   },
   "outputs": [
    {
     "data": {
      "text/html": [
       "<div>\n",
       "<style scoped>\n",
       "    .dataframe tbody tr th:only-of-type {\n",
       "        vertical-align: middle;\n",
       "    }\n",
       "\n",
       "    .dataframe tbody tr th {\n",
       "        vertical-align: top;\n",
       "    }\n",
       "\n",
       "    .dataframe thead th {\n",
       "        text-align: right;\n",
       "    }\n",
       "</style>\n",
       "<table border=\"1\" class=\"dataframe\">\n",
       "  <thead>\n",
       "    <tr style=\"text-align: right;\">\n",
       "      <th></th>\n",
       "      <th>timestamp__to_date</th>\n",
       "      <th>searches</th>\n",
       "      <th>sessions</th>\n",
       "    </tr>\n",
       "  </thead>\n",
       "  <tbody>\n",
       "    <tr>\n",
       "      <th>0</th>\n",
       "      <td>2019-11-26</td>\n",
       "      <td>2554</td>\n",
       "      <td>18659</td>\n",
       "    </tr>\n",
       "    <tr>\n",
       "      <th>1</th>\n",
       "      <td>2020-07-20</td>\n",
       "      <td>2509</td>\n",
       "      <td>36260</td>\n",
       "    </tr>\n",
       "    <tr>\n",
       "      <th>2</th>\n",
       "      <td>2020-07-01</td>\n",
       "      <td>2376</td>\n",
       "      <td>44005</td>\n",
       "    </tr>\n",
       "    <tr>\n",
       "      <th>3</th>\n",
       "      <td>2020-07-27</td>\n",
       "      <td>2359</td>\n",
       "      <td>38313</td>\n",
       "    </tr>\n",
       "    <tr>\n",
       "      <th>4</th>\n",
       "      <td>2020-07-06</td>\n",
       "      <td>2333</td>\n",
       "      <td>38421</td>\n",
       "    </tr>\n",
       "  </tbody>\n",
       "</table>\n",
       "</div>"
      ],
      "text/plain": [
       "  timestamp__to_date  searches  sessions\n",
       "0         2019-11-26      2554     18659\n",
       "1         2020-07-20      2509     36260\n",
       "2         2020-07-01      2376     44005\n",
       "3         2020-07-27      2359     38313\n",
       "4         2020-07-06      2333     38421"
      ]
     },
     "execution_count": 7,
     "metadata": {},
     "output_type": "execute_result"
    }
   ],
   "source": [
    "df.head()"
   ]
  },
  {
   "cell_type": "code",
   "execution_count": 8,
   "metadata": {
    "scrolled": true
   },
   "outputs": [
    {
     "name": "stdout",
     "output_type": "stream",
     "text": [
      "<class 'pandas.core.frame.DataFrame'>\n",
      "RangeIndex: 578 entries, 0 to 577\n",
      "Data columns (total 3 columns):\n",
      " #   Column              Non-Null Count  Dtype \n",
      "---  ------              --------------  ----- \n",
      " 0   timestamp__to_date  578 non-null    object\n",
      " 1   searches            578 non-null    int64 \n",
      " 2   sessions            578 non-null    int64 \n",
      "dtypes: int64(2), object(1)\n",
      "memory usage: 13.7+ KB\n"
     ]
    }
   ],
   "source": [
    "df.info()"
   ]
  },
  {
   "cell_type": "markdown",
   "metadata": {},
   "source": [
    "## Data pre-processing"
   ]
  },
  {
   "cell_type": "code",
   "execution_count": 10,
   "metadata": {},
   "outputs": [],
   "source": [
    "#Preprocessing functions\n",
    "def change_dtype(dataf):\n",
    "    \n",
    "    new_df = (dataf\n",
    "                .assign(date= lambda d: pd.to_datetime(d['timestamp__to_date']))\n",
    "             )\n",
    "    \n",
    "    return new_df\n",
    "\n",
    "def add_ratio(dataf):\n",
    "    \n",
    "    new_df = (dataf\n",
    "              .assign(searches_per_session = round(dataf['searches'] / dataf['sessions'], 3))\n",
    "             )\n",
    "        \n",
    "    return new_df\n",
    "\n",
    "def add_date_parts(dataf):\n",
    "    \n",
    "    new_df = (dataf\n",
    "              .assign(year = lambda d: d['date'].dt.year,\n",
    "                      month_number = lambda d: d['date'].dt.month,\n",
    "                      month_name = lambda d: d['date'].dt.strftime('%B'),\n",
    "                      day_number =  lambda d: d['date'].dt.dayofweek,\n",
    "                      day_name =  lambda d: d['date'].dt.strftime('%A'),\n",
    "                      week = lambda d: d['date'].dt.strftime('%W'))\n",
    "             )\n",
    "        \n",
    "    return new_df\n",
    "    \n",
    "\n",
    "def keep_columns(dataf):\n",
    "    \n",
    "    new_df = (dataf[['date', 'searches', 'sessions', \n",
    "                   'searches_per_session', 'year', 'month_number', \n",
    "                   'month_name', 'day_number', 'day_name', 'week']]\n",
    "             )\n",
    "    \n",
    "    \n",
    "    return new_df\n",
    "\n",
    "def filter_months(dataf):\n",
    "    \n",
    "    new_df = (dataf\n",
    "              .loc[dataf['month_number'] < 8]\n",
    "             )\n",
    "    \n",
    "    return new_df\n",
    "\n",
    "def filter_years(dataf):\n",
    "    \n",
    "    new_df = (dataf\n",
    "              .loc[dataf['year'] == 2020]\n",
    "             )\n",
    "    \n",
    "    return new_df\n",
    "\n",
    "def date_index(dataf):\n",
    "    \n",
    "    sort_df = (dataf\n",
    "               .set_index('date')\n",
    "               .sort_index()\n",
    "              )\n",
    "    \n",
    "    return sort_df"
   ]
  },
  {
   "cell_type": "code",
   "execution_count": 11,
   "metadata": {},
   "outputs": [],
   "source": [
    "clean_df = (df\n",
    "            .pipe(change_dtype)\n",
    "            .pipe(add_ratio)\n",
    "            .pipe(add_date_parts)\n",
    "            .pipe(keep_columns)\n",
    "            .pipe(filter_months)\n",
    "            .pipe(filter_years)\n",
    "            .pipe(date_index)\n",
    "           )"
   ]
  },
  {
   "cell_type": "code",
   "execution_count": 12,
   "metadata": {},
   "outputs": [
    {
     "data": {
      "text/html": [
       "<div>\n",
       "<style scoped>\n",
       "    .dataframe tbody tr th:only-of-type {\n",
       "        vertical-align: middle;\n",
       "    }\n",
       "\n",
       "    .dataframe tbody tr th {\n",
       "        vertical-align: top;\n",
       "    }\n",
       "\n",
       "    .dataframe thead th {\n",
       "        text-align: right;\n",
       "    }\n",
       "</style>\n",
       "<table border=\"1\" class=\"dataframe\">\n",
       "  <thead>\n",
       "    <tr style=\"text-align: right;\">\n",
       "      <th></th>\n",
       "      <th>searches</th>\n",
       "      <th>sessions</th>\n",
       "      <th>searches_per_session</th>\n",
       "      <th>year</th>\n",
       "      <th>month_number</th>\n",
       "      <th>month_name</th>\n",
       "      <th>day_number</th>\n",
       "      <th>day_name</th>\n",
       "      <th>week</th>\n",
       "    </tr>\n",
       "    <tr>\n",
       "      <th>date</th>\n",
       "      <th></th>\n",
       "      <th></th>\n",
       "      <th></th>\n",
       "      <th></th>\n",
       "      <th></th>\n",
       "      <th></th>\n",
       "      <th></th>\n",
       "      <th></th>\n",
       "      <th></th>\n",
       "    </tr>\n",
       "  </thead>\n",
       "  <tbody>\n",
       "    <tr>\n",
       "      <th>2020-01-01</th>\n",
       "      <td>602</td>\n",
       "      <td>9218</td>\n",
       "      <td>0.065</td>\n",
       "      <td>2020</td>\n",
       "      <td>1</td>\n",
       "      <td>January</td>\n",
       "      <td>2</td>\n",
       "      <td>Wednesday</td>\n",
       "      <td>00</td>\n",
       "    </tr>\n",
       "    <tr>\n",
       "      <th>2020-01-02</th>\n",
       "      <td>1284</td>\n",
       "      <td>17588</td>\n",
       "      <td>0.073</td>\n",
       "      <td>2020</td>\n",
       "      <td>1</td>\n",
       "      <td>January</td>\n",
       "      <td>3</td>\n",
       "      <td>Thursday</td>\n",
       "      <td>00</td>\n",
       "    </tr>\n",
       "    <tr>\n",
       "      <th>2020-01-03</th>\n",
       "      <td>1246</td>\n",
       "      <td>16371</td>\n",
       "      <td>0.076</td>\n",
       "      <td>2020</td>\n",
       "      <td>1</td>\n",
       "      <td>January</td>\n",
       "      <td>4</td>\n",
       "      <td>Friday</td>\n",
       "      <td>00</td>\n",
       "    </tr>\n",
       "    <tr>\n",
       "      <th>2020-01-04</th>\n",
       "      <td>908</td>\n",
       "      <td>11299</td>\n",
       "      <td>0.080</td>\n",
       "      <td>2020</td>\n",
       "      <td>1</td>\n",
       "      <td>January</td>\n",
       "      <td>5</td>\n",
       "      <td>Saturday</td>\n",
       "      <td>00</td>\n",
       "    </tr>\n",
       "    <tr>\n",
       "      <th>2020-01-05</th>\n",
       "      <td>869</td>\n",
       "      <td>12477</td>\n",
       "      <td>0.070</td>\n",
       "      <td>2020</td>\n",
       "      <td>1</td>\n",
       "      <td>January</td>\n",
       "      <td>6</td>\n",
       "      <td>Sunday</td>\n",
       "      <td>00</td>\n",
       "    </tr>\n",
       "  </tbody>\n",
       "</table>\n",
       "</div>"
      ],
      "text/plain": [
       "            searches  sessions  searches_per_session  year  month_number  \\\n",
       "date                                                                       \n",
       "2020-01-01       602      9218                 0.065  2020             1   \n",
       "2020-01-02      1284     17588                 0.073  2020             1   \n",
       "2020-01-03      1246     16371                 0.076  2020             1   \n",
       "2020-01-04       908     11299                 0.080  2020             1   \n",
       "2020-01-05       869     12477                 0.070  2020             1   \n",
       "\n",
       "           month_name  day_number   day_name week  \n",
       "date                                               \n",
       "2020-01-01    January           2  Wednesday   00  \n",
       "2020-01-02    January           3   Thursday   00  \n",
       "2020-01-03    January           4     Friday   00  \n",
       "2020-01-04    January           5   Saturday   00  \n",
       "2020-01-05    January           6     Sunday   00  "
      ]
     },
     "execution_count": 12,
     "metadata": {},
     "output_type": "execute_result"
    }
   ],
   "source": [
    "clean_df.head()"
   ]
  }
 ],
 "metadata": {
  "kernelspec": {
   "display_name": "Python 3",
   "language": "python",
   "name": "python3"
  },
  "language_info": {
   "codemirror_mode": {
    "name": "ipython",
    "version": 3
   },
   "file_extension": ".py",
   "mimetype": "text/x-python",
   "name": "python",
   "nbconvert_exporter": "python",
   "pygments_lexer": "ipython3",
   "version": "3.7.6"
  }
 },
 "nbformat": 4,
 "nbformat_minor": 4
}

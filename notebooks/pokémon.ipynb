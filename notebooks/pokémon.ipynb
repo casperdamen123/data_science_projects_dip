{
 "cells": [
  {
   "cell_type": "markdown",
   "metadata": {},
   "source": [
    "# Pokemon Data Analytics challenge"
   ]
  },
  {
   "cell_type": "code",
   "execution_count": 1,
   "metadata": {},
   "outputs": [],
   "source": [
    "#Import libraries\n",
    "import pandas as pd\n",
    "import numpy as np\n",
    "import seaborn as sns\n",
    "from pathlib import Path\n",
    "import matplotlib.pyplot as plt\n",
    "%matplotlib inline\n",
    "#from pandas_profiling import ProfileReport"
   ]
  },
  {
   "cell_type": "code",
   "execution_count": 2,
   "metadata": {},
   "outputs": [],
   "source": [
    "#Set data path\n",
    "pokemon_data_path = Path('../data/pokemon.csv')"
   ]
  },
  {
   "cell_type": "code",
   "execution_count": 3,
   "metadata": {
    "scrolled": true
   },
   "outputs": [],
   "source": [
    "#Load original dataset\n",
    "df = pd.read_csv(pokemon_data_path)"
   ]
  },
  {
   "cell_type": "code",
   "execution_count": 4,
   "metadata": {},
   "outputs": [],
   "source": [
    "#Show all columns to explore\n",
    "pd.set_option('display.max_columns', 41)"
   ]
  },
  {
   "cell_type": "markdown",
   "metadata": {},
   "source": [
    "## Data exploration"
   ]
  },
  {
   "cell_type": "code",
   "execution_count": 5,
   "metadata": {
    "scrolled": true
   },
   "outputs": [
    {
     "name": "stdout",
     "output_type": "stream",
     "text": [
      "<class 'pandas.core.frame.DataFrame'>\n",
      "RangeIndex: 801 entries, 0 to 800\n",
      "Data columns (total 41 columns):\n",
      " #   Column             Non-Null Count  Dtype  \n",
      "---  ------             --------------  -----  \n",
      " 0   abilities          801 non-null    object \n",
      " 1   against_bug        801 non-null    float64\n",
      " 2   against_dark       801 non-null    float64\n",
      " 3   against_dragon     801 non-null    float64\n",
      " 4   against_electric   801 non-null    float64\n",
      " 5   against_fairy      801 non-null    float64\n",
      " 6   against_fight      801 non-null    float64\n",
      " 7   against_fire       801 non-null    float64\n",
      " 8   against_flying     801 non-null    float64\n",
      " 9   against_ghost      801 non-null    float64\n",
      " 10  against_grass      801 non-null    float64\n",
      " 11  against_ground     801 non-null    float64\n",
      " 12  against_ice        801 non-null    float64\n",
      " 13  against_normal     801 non-null    float64\n",
      " 14  against_poison     801 non-null    float64\n",
      " 15  against_psychic    801 non-null    float64\n",
      " 16  against_rock       801 non-null    float64\n",
      " 17  against_steel      801 non-null    float64\n",
      " 18  against_water      801 non-null    float64\n",
      " 19  attack             801 non-null    int64  \n",
      " 20  base_egg_steps     801 non-null    int64  \n",
      " 21  base_happiness     801 non-null    int64  \n",
      " 22  base_total         801 non-null    int64  \n",
      " 23  capture_rate       801 non-null    object \n",
      " 24  classfication      801 non-null    object \n",
      " 25  defense            801 non-null    int64  \n",
      " 26  experience_growth  801 non-null    int64  \n",
      " 27  height_m           781 non-null    float64\n",
      " 28  hp                 801 non-null    int64  \n",
      " 29  japanese_name      801 non-null    object \n",
      " 30  name               801 non-null    object \n",
      " 31  percentage_male    703 non-null    float64\n",
      " 32  pokedex_number     801 non-null    int64  \n",
      " 33  sp_attack          801 non-null    int64  \n",
      " 34  sp_defense         801 non-null    int64  \n",
      " 35  speed              801 non-null    int64  \n",
      " 36  type1              801 non-null    object \n",
      " 37  type2              417 non-null    object \n",
      " 38  weight_kg          781 non-null    float64\n",
      " 39  generation         801 non-null    int64  \n",
      " 40  is_legendary       801 non-null    int64  \n",
      "dtypes: float64(21), int64(13), object(7)\n",
      "memory usage: 256.7+ KB\n"
     ]
    }
   ],
   "source": [
    "#Check data types\n",
    "df.info()"
   ]
  },
  {
   "cell_type": "code",
   "execution_count": 6,
   "metadata": {
    "scrolled": true
   },
   "outputs": [
    {
     "data": {
      "text/html": [
       "<div>\n",
       "<style scoped>\n",
       "    .dataframe tbody tr th:only-of-type {\n",
       "        vertical-align: middle;\n",
       "    }\n",
       "\n",
       "    .dataframe tbody tr th {\n",
       "        vertical-align: top;\n",
       "    }\n",
       "\n",
       "    .dataframe thead th {\n",
       "        text-align: right;\n",
       "    }\n",
       "</style>\n",
       "<table border=\"1\" class=\"dataframe\">\n",
       "  <thead>\n",
       "    <tr style=\"text-align: right;\">\n",
       "      <th></th>\n",
       "      <th>against_bug</th>\n",
       "      <th>against_dark</th>\n",
       "      <th>against_dragon</th>\n",
       "      <th>against_electric</th>\n",
       "      <th>against_fairy</th>\n",
       "      <th>against_fight</th>\n",
       "      <th>against_fire</th>\n",
       "      <th>against_flying</th>\n",
       "      <th>against_ghost</th>\n",
       "      <th>against_grass</th>\n",
       "      <th>against_ground</th>\n",
       "      <th>against_ice</th>\n",
       "      <th>against_normal</th>\n",
       "      <th>against_poison</th>\n",
       "      <th>against_psychic</th>\n",
       "      <th>against_rock</th>\n",
       "      <th>against_steel</th>\n",
       "      <th>against_water</th>\n",
       "      <th>attack</th>\n",
       "      <th>base_egg_steps</th>\n",
       "      <th>base_happiness</th>\n",
       "      <th>base_total</th>\n",
       "      <th>defense</th>\n",
       "      <th>experience_growth</th>\n",
       "      <th>height_m</th>\n",
       "      <th>hp</th>\n",
       "      <th>percentage_male</th>\n",
       "      <th>pokedex_number</th>\n",
       "      <th>sp_attack</th>\n",
       "      <th>sp_defense</th>\n",
       "      <th>speed</th>\n",
       "      <th>weight_kg</th>\n",
       "      <th>generation</th>\n",
       "      <th>is_legendary</th>\n",
       "    </tr>\n",
       "  </thead>\n",
       "  <tbody>\n",
       "    <tr>\n",
       "      <th>count</th>\n",
       "      <td>801.000000</td>\n",
       "      <td>801.000000</td>\n",
       "      <td>801.000000</td>\n",
       "      <td>801.000000</td>\n",
       "      <td>801.000000</td>\n",
       "      <td>801.000000</td>\n",
       "      <td>801.000000</td>\n",
       "      <td>801.000000</td>\n",
       "      <td>801.000000</td>\n",
       "      <td>801.000000</td>\n",
       "      <td>801.000000</td>\n",
       "      <td>801.000000</td>\n",
       "      <td>801.000000</td>\n",
       "      <td>801.000000</td>\n",
       "      <td>801.000000</td>\n",
       "      <td>801.000000</td>\n",
       "      <td>801.000000</td>\n",
       "      <td>801.000000</td>\n",
       "      <td>801.000000</td>\n",
       "      <td>801.000000</td>\n",
       "      <td>801.000000</td>\n",
       "      <td>801.000000</td>\n",
       "      <td>801.000000</td>\n",
       "      <td>8.010000e+02</td>\n",
       "      <td>781.000000</td>\n",
       "      <td>801.000000</td>\n",
       "      <td>703.000000</td>\n",
       "      <td>801.000000</td>\n",
       "      <td>801.000000</td>\n",
       "      <td>801.000000</td>\n",
       "      <td>801.000000</td>\n",
       "      <td>781.000000</td>\n",
       "      <td>801.000000</td>\n",
       "      <td>801.000000</td>\n",
       "    </tr>\n",
       "    <tr>\n",
       "      <th>mean</th>\n",
       "      <td>0.996255</td>\n",
       "      <td>1.057116</td>\n",
       "      <td>0.968789</td>\n",
       "      <td>1.073970</td>\n",
       "      <td>1.068976</td>\n",
       "      <td>1.065543</td>\n",
       "      <td>1.135456</td>\n",
       "      <td>1.192884</td>\n",
       "      <td>0.985019</td>\n",
       "      <td>1.034020</td>\n",
       "      <td>1.098002</td>\n",
       "      <td>1.208177</td>\n",
       "      <td>0.887016</td>\n",
       "      <td>0.975343</td>\n",
       "      <td>1.005306</td>\n",
       "      <td>1.250312</td>\n",
       "      <td>0.983458</td>\n",
       "      <td>1.058365</td>\n",
       "      <td>77.857678</td>\n",
       "      <td>7191.011236</td>\n",
       "      <td>65.362047</td>\n",
       "      <td>428.377029</td>\n",
       "      <td>73.008739</td>\n",
       "      <td>1.054996e+06</td>\n",
       "      <td>1.163892</td>\n",
       "      <td>68.958801</td>\n",
       "      <td>55.155761</td>\n",
       "      <td>401.000000</td>\n",
       "      <td>71.305868</td>\n",
       "      <td>70.911361</td>\n",
       "      <td>66.334582</td>\n",
       "      <td>61.378105</td>\n",
       "      <td>3.690387</td>\n",
       "      <td>0.087391</td>\n",
       "    </tr>\n",
       "    <tr>\n",
       "      <th>std</th>\n",
       "      <td>0.597248</td>\n",
       "      <td>0.438142</td>\n",
       "      <td>0.353058</td>\n",
       "      <td>0.654962</td>\n",
       "      <td>0.522167</td>\n",
       "      <td>0.717251</td>\n",
       "      <td>0.691853</td>\n",
       "      <td>0.604488</td>\n",
       "      <td>0.558256</td>\n",
       "      <td>0.788896</td>\n",
       "      <td>0.738818</td>\n",
       "      <td>0.735356</td>\n",
       "      <td>0.266106</td>\n",
       "      <td>0.549375</td>\n",
       "      <td>0.495183</td>\n",
       "      <td>0.697148</td>\n",
       "      <td>0.500117</td>\n",
       "      <td>0.606562</td>\n",
       "      <td>32.158820</td>\n",
       "      <td>6558.220422</td>\n",
       "      <td>19.598948</td>\n",
       "      <td>119.203577</td>\n",
       "      <td>30.769159</td>\n",
       "      <td>1.602558e+05</td>\n",
       "      <td>1.080326</td>\n",
       "      <td>26.576015</td>\n",
       "      <td>20.261623</td>\n",
       "      <td>231.373075</td>\n",
       "      <td>32.353826</td>\n",
       "      <td>27.942501</td>\n",
       "      <td>28.907662</td>\n",
       "      <td>109.354766</td>\n",
       "      <td>1.930420</td>\n",
       "      <td>0.282583</td>\n",
       "    </tr>\n",
       "    <tr>\n",
       "      <th>min</th>\n",
       "      <td>0.250000</td>\n",
       "      <td>0.250000</td>\n",
       "      <td>0.000000</td>\n",
       "      <td>0.000000</td>\n",
       "      <td>0.250000</td>\n",
       "      <td>0.000000</td>\n",
       "      <td>0.250000</td>\n",
       "      <td>0.250000</td>\n",
       "      <td>0.000000</td>\n",
       "      <td>0.250000</td>\n",
       "      <td>0.000000</td>\n",
       "      <td>0.250000</td>\n",
       "      <td>0.000000</td>\n",
       "      <td>0.000000</td>\n",
       "      <td>0.000000</td>\n",
       "      <td>0.250000</td>\n",
       "      <td>0.250000</td>\n",
       "      <td>0.250000</td>\n",
       "      <td>5.000000</td>\n",
       "      <td>1280.000000</td>\n",
       "      <td>0.000000</td>\n",
       "      <td>180.000000</td>\n",
       "      <td>5.000000</td>\n",
       "      <td>6.000000e+05</td>\n",
       "      <td>0.100000</td>\n",
       "      <td>1.000000</td>\n",
       "      <td>0.000000</td>\n",
       "      <td>1.000000</td>\n",
       "      <td>10.000000</td>\n",
       "      <td>20.000000</td>\n",
       "      <td>5.000000</td>\n",
       "      <td>0.100000</td>\n",
       "      <td>1.000000</td>\n",
       "      <td>0.000000</td>\n",
       "    </tr>\n",
       "    <tr>\n",
       "      <th>25%</th>\n",
       "      <td>0.500000</td>\n",
       "      <td>1.000000</td>\n",
       "      <td>1.000000</td>\n",
       "      <td>0.500000</td>\n",
       "      <td>1.000000</td>\n",
       "      <td>0.500000</td>\n",
       "      <td>0.500000</td>\n",
       "      <td>1.000000</td>\n",
       "      <td>1.000000</td>\n",
       "      <td>0.500000</td>\n",
       "      <td>1.000000</td>\n",
       "      <td>0.500000</td>\n",
       "      <td>1.000000</td>\n",
       "      <td>0.500000</td>\n",
       "      <td>1.000000</td>\n",
       "      <td>1.000000</td>\n",
       "      <td>0.500000</td>\n",
       "      <td>0.500000</td>\n",
       "      <td>55.000000</td>\n",
       "      <td>5120.000000</td>\n",
       "      <td>70.000000</td>\n",
       "      <td>320.000000</td>\n",
       "      <td>50.000000</td>\n",
       "      <td>1.000000e+06</td>\n",
       "      <td>0.600000</td>\n",
       "      <td>50.000000</td>\n",
       "      <td>50.000000</td>\n",
       "      <td>201.000000</td>\n",
       "      <td>45.000000</td>\n",
       "      <td>50.000000</td>\n",
       "      <td>45.000000</td>\n",
       "      <td>9.000000</td>\n",
       "      <td>2.000000</td>\n",
       "      <td>0.000000</td>\n",
       "    </tr>\n",
       "    <tr>\n",
       "      <th>50%</th>\n",
       "      <td>1.000000</td>\n",
       "      <td>1.000000</td>\n",
       "      <td>1.000000</td>\n",
       "      <td>1.000000</td>\n",
       "      <td>1.000000</td>\n",
       "      <td>1.000000</td>\n",
       "      <td>1.000000</td>\n",
       "      <td>1.000000</td>\n",
       "      <td>1.000000</td>\n",
       "      <td>1.000000</td>\n",
       "      <td>1.000000</td>\n",
       "      <td>1.000000</td>\n",
       "      <td>1.000000</td>\n",
       "      <td>1.000000</td>\n",
       "      <td>1.000000</td>\n",
       "      <td>1.000000</td>\n",
       "      <td>1.000000</td>\n",
       "      <td>1.000000</td>\n",
       "      <td>75.000000</td>\n",
       "      <td>5120.000000</td>\n",
       "      <td>70.000000</td>\n",
       "      <td>435.000000</td>\n",
       "      <td>70.000000</td>\n",
       "      <td>1.000000e+06</td>\n",
       "      <td>1.000000</td>\n",
       "      <td>65.000000</td>\n",
       "      <td>50.000000</td>\n",
       "      <td>401.000000</td>\n",
       "      <td>65.000000</td>\n",
       "      <td>66.000000</td>\n",
       "      <td>65.000000</td>\n",
       "      <td>27.300000</td>\n",
       "      <td>4.000000</td>\n",
       "      <td>0.000000</td>\n",
       "    </tr>\n",
       "    <tr>\n",
       "      <th>75%</th>\n",
       "      <td>1.000000</td>\n",
       "      <td>1.000000</td>\n",
       "      <td>1.000000</td>\n",
       "      <td>1.000000</td>\n",
       "      <td>1.000000</td>\n",
       "      <td>1.000000</td>\n",
       "      <td>2.000000</td>\n",
       "      <td>1.000000</td>\n",
       "      <td>1.000000</td>\n",
       "      <td>1.000000</td>\n",
       "      <td>1.000000</td>\n",
       "      <td>2.000000</td>\n",
       "      <td>1.000000</td>\n",
       "      <td>1.000000</td>\n",
       "      <td>1.000000</td>\n",
       "      <td>2.000000</td>\n",
       "      <td>1.000000</td>\n",
       "      <td>1.000000</td>\n",
       "      <td>100.000000</td>\n",
       "      <td>6400.000000</td>\n",
       "      <td>70.000000</td>\n",
       "      <td>505.000000</td>\n",
       "      <td>90.000000</td>\n",
       "      <td>1.059860e+06</td>\n",
       "      <td>1.500000</td>\n",
       "      <td>80.000000</td>\n",
       "      <td>50.000000</td>\n",
       "      <td>601.000000</td>\n",
       "      <td>91.000000</td>\n",
       "      <td>90.000000</td>\n",
       "      <td>85.000000</td>\n",
       "      <td>64.800000</td>\n",
       "      <td>5.000000</td>\n",
       "      <td>0.000000</td>\n",
       "    </tr>\n",
       "    <tr>\n",
       "      <th>max</th>\n",
       "      <td>4.000000</td>\n",
       "      <td>4.000000</td>\n",
       "      <td>2.000000</td>\n",
       "      <td>4.000000</td>\n",
       "      <td>4.000000</td>\n",
       "      <td>4.000000</td>\n",
       "      <td>4.000000</td>\n",
       "      <td>4.000000</td>\n",
       "      <td>4.000000</td>\n",
       "      <td>4.000000</td>\n",
       "      <td>4.000000</td>\n",
       "      <td>4.000000</td>\n",
       "      <td>1.000000</td>\n",
       "      <td>4.000000</td>\n",
       "      <td>4.000000</td>\n",
       "      <td>4.000000</td>\n",
       "      <td>4.000000</td>\n",
       "      <td>4.000000</td>\n",
       "      <td>185.000000</td>\n",
       "      <td>30720.000000</td>\n",
       "      <td>140.000000</td>\n",
       "      <td>780.000000</td>\n",
       "      <td>230.000000</td>\n",
       "      <td>1.640000e+06</td>\n",
       "      <td>14.500000</td>\n",
       "      <td>255.000000</td>\n",
       "      <td>100.000000</td>\n",
       "      <td>801.000000</td>\n",
       "      <td>194.000000</td>\n",
       "      <td>230.000000</td>\n",
       "      <td>180.000000</td>\n",
       "      <td>999.900000</td>\n",
       "      <td>7.000000</td>\n",
       "      <td>1.000000</td>\n",
       "    </tr>\n",
       "  </tbody>\n",
       "</table>\n",
       "</div>"
      ],
      "text/plain": [
       "       against_bug  against_dark  against_dragon  against_electric  \\\n",
       "count   801.000000    801.000000      801.000000        801.000000   \n",
       "mean      0.996255      1.057116        0.968789          1.073970   \n",
       "std       0.597248      0.438142        0.353058          0.654962   \n",
       "min       0.250000      0.250000        0.000000          0.000000   \n",
       "25%       0.500000      1.000000        1.000000          0.500000   \n",
       "50%       1.000000      1.000000        1.000000          1.000000   \n",
       "75%       1.000000      1.000000        1.000000          1.000000   \n",
       "max       4.000000      4.000000        2.000000          4.000000   \n",
       "\n",
       "       against_fairy  against_fight  against_fire  against_flying  \\\n",
       "count     801.000000     801.000000    801.000000      801.000000   \n",
       "mean        1.068976       1.065543      1.135456        1.192884   \n",
       "std         0.522167       0.717251      0.691853        0.604488   \n",
       "min         0.250000       0.000000      0.250000        0.250000   \n",
       "25%         1.000000       0.500000      0.500000        1.000000   \n",
       "50%         1.000000       1.000000      1.000000        1.000000   \n",
       "75%         1.000000       1.000000      2.000000        1.000000   \n",
       "max         4.000000       4.000000      4.000000        4.000000   \n",
       "\n",
       "       against_ghost  against_grass  against_ground  against_ice  \\\n",
       "count     801.000000     801.000000      801.000000   801.000000   \n",
       "mean        0.985019       1.034020        1.098002     1.208177   \n",
       "std         0.558256       0.788896        0.738818     0.735356   \n",
       "min         0.000000       0.250000        0.000000     0.250000   \n",
       "25%         1.000000       0.500000        1.000000     0.500000   \n",
       "50%         1.000000       1.000000        1.000000     1.000000   \n",
       "75%         1.000000       1.000000        1.000000     2.000000   \n",
       "max         4.000000       4.000000        4.000000     4.000000   \n",
       "\n",
       "       against_normal  against_poison  against_psychic  against_rock  \\\n",
       "count      801.000000      801.000000       801.000000    801.000000   \n",
       "mean         0.887016        0.975343         1.005306      1.250312   \n",
       "std          0.266106        0.549375         0.495183      0.697148   \n",
       "min          0.000000        0.000000         0.000000      0.250000   \n",
       "25%          1.000000        0.500000         1.000000      1.000000   \n",
       "50%          1.000000        1.000000         1.000000      1.000000   \n",
       "75%          1.000000        1.000000         1.000000      2.000000   \n",
       "max          1.000000        4.000000         4.000000      4.000000   \n",
       "\n",
       "       against_steel  against_water      attack  base_egg_steps  \\\n",
       "count     801.000000     801.000000  801.000000      801.000000   \n",
       "mean        0.983458       1.058365   77.857678     7191.011236   \n",
       "std         0.500117       0.606562   32.158820     6558.220422   \n",
       "min         0.250000       0.250000    5.000000     1280.000000   \n",
       "25%         0.500000       0.500000   55.000000     5120.000000   \n",
       "50%         1.000000       1.000000   75.000000     5120.000000   \n",
       "75%         1.000000       1.000000  100.000000     6400.000000   \n",
       "max         4.000000       4.000000  185.000000    30720.000000   \n",
       "\n",
       "       base_happiness  base_total     defense  experience_growth    height_m  \\\n",
       "count      801.000000  801.000000  801.000000       8.010000e+02  781.000000   \n",
       "mean        65.362047  428.377029   73.008739       1.054996e+06    1.163892   \n",
       "std         19.598948  119.203577   30.769159       1.602558e+05    1.080326   \n",
       "min          0.000000  180.000000    5.000000       6.000000e+05    0.100000   \n",
       "25%         70.000000  320.000000   50.000000       1.000000e+06    0.600000   \n",
       "50%         70.000000  435.000000   70.000000       1.000000e+06    1.000000   \n",
       "75%         70.000000  505.000000   90.000000       1.059860e+06    1.500000   \n",
       "max        140.000000  780.000000  230.000000       1.640000e+06   14.500000   \n",
       "\n",
       "               hp  percentage_male  pokedex_number   sp_attack  sp_defense  \\\n",
       "count  801.000000       703.000000      801.000000  801.000000  801.000000   \n",
       "mean    68.958801        55.155761      401.000000   71.305868   70.911361   \n",
       "std     26.576015        20.261623      231.373075   32.353826   27.942501   \n",
       "min      1.000000         0.000000        1.000000   10.000000   20.000000   \n",
       "25%     50.000000        50.000000      201.000000   45.000000   50.000000   \n",
       "50%     65.000000        50.000000      401.000000   65.000000   66.000000   \n",
       "75%     80.000000        50.000000      601.000000   91.000000   90.000000   \n",
       "max    255.000000       100.000000      801.000000  194.000000  230.000000   \n",
       "\n",
       "            speed   weight_kg  generation  is_legendary  \n",
       "count  801.000000  781.000000  801.000000    801.000000  \n",
       "mean    66.334582   61.378105    3.690387      0.087391  \n",
       "std     28.907662  109.354766    1.930420      0.282583  \n",
       "min      5.000000    0.100000    1.000000      0.000000  \n",
       "25%     45.000000    9.000000    2.000000      0.000000  \n",
       "50%     65.000000   27.300000    4.000000      0.000000  \n",
       "75%     85.000000   64.800000    5.000000      0.000000  \n",
       "max    180.000000  999.900000    7.000000      1.000000  "
      ]
     },
     "execution_count": 6,
     "metadata": {},
     "output_type": "execute_result"
    }
   ],
   "source": [
    "#Summarize\n",
    "df.describe()"
   ]
  },
  {
   "cell_type": "code",
   "execution_count": 40,
   "metadata": {
    "scrolled": false
   },
   "outputs": [
    {
     "data": {
      "text/html": [
       "<div>\n",
       "<style scoped>\n",
       "    .dataframe tbody tr th:only-of-type {\n",
       "        vertical-align: middle;\n",
       "    }\n",
       "\n",
       "    .dataframe tbody tr th {\n",
       "        vertical-align: top;\n",
       "    }\n",
       "\n",
       "    .dataframe thead th {\n",
       "        text-align: right;\n",
       "    }\n",
       "</style>\n",
       "<table border=\"1\" class=\"dataframe\">\n",
       "  <thead>\n",
       "    <tr style=\"text-align: right;\">\n",
       "      <th></th>\n",
       "      <th>abilities</th>\n",
       "      <th>against_bug</th>\n",
       "      <th>against_dark</th>\n",
       "      <th>against_dragon</th>\n",
       "      <th>against_electric</th>\n",
       "      <th>against_fairy</th>\n",
       "      <th>against_fight</th>\n",
       "      <th>against_fire</th>\n",
       "      <th>against_flying</th>\n",
       "      <th>against_ghost</th>\n",
       "      <th>against_grass</th>\n",
       "      <th>against_ground</th>\n",
       "      <th>against_ice</th>\n",
       "      <th>against_normal</th>\n",
       "      <th>against_poison</th>\n",
       "      <th>against_psychic</th>\n",
       "      <th>against_rock</th>\n",
       "      <th>against_steel</th>\n",
       "      <th>against_water</th>\n",
       "      <th>attack</th>\n",
       "      <th>base_egg_steps</th>\n",
       "      <th>base_happiness</th>\n",
       "      <th>base_total</th>\n",
       "      <th>capture_rate</th>\n",
       "      <th>classfication</th>\n",
       "      <th>defense</th>\n",
       "      <th>experience_growth</th>\n",
       "      <th>height_m</th>\n",
       "      <th>hp</th>\n",
       "      <th>japanese_name</th>\n",
       "      <th>name</th>\n",
       "      <th>percentage_male</th>\n",
       "      <th>pokedex_number</th>\n",
       "      <th>sp_attack</th>\n",
       "      <th>sp_defense</th>\n",
       "      <th>speed</th>\n",
       "      <th>type1</th>\n",
       "      <th>type2</th>\n",
       "      <th>weight_kg</th>\n",
       "      <th>generation</th>\n",
       "      <th>is_legendary</th>\n",
       "    </tr>\n",
       "  </thead>\n",
       "  <tbody>\n",
       "    <tr>\n",
       "      <th>0</th>\n",
       "      <td>['Overgrow', 'Chlorophyll']</td>\n",
       "      <td>1.0</td>\n",
       "      <td>1.0</td>\n",
       "      <td>1.0</td>\n",
       "      <td>0.5</td>\n",
       "      <td>0.5</td>\n",
       "      <td>0.5</td>\n",
       "      <td>2.0</td>\n",
       "      <td>2.0</td>\n",
       "      <td>1.0</td>\n",
       "      <td>0.25</td>\n",
       "      <td>1.0</td>\n",
       "      <td>2.0</td>\n",
       "      <td>1.0</td>\n",
       "      <td>1.0</td>\n",
       "      <td>2.0</td>\n",
       "      <td>1.0</td>\n",
       "      <td>1.0</td>\n",
       "      <td>0.5</td>\n",
       "      <td>49</td>\n",
       "      <td>5120</td>\n",
       "      <td>70</td>\n",
       "      <td>318</td>\n",
       "      <td>45</td>\n",
       "      <td>Seed Pokémon</td>\n",
       "      <td>49</td>\n",
       "      <td>1059860</td>\n",
       "      <td>0.7</td>\n",
       "      <td>45</td>\n",
       "      <td>Fushigidaneフシギダネ</td>\n",
       "      <td>Bulbasaur</td>\n",
       "      <td>88.1</td>\n",
       "      <td>1</td>\n",
       "      <td>65</td>\n",
       "      <td>65</td>\n",
       "      <td>45</td>\n",
       "      <td>grass</td>\n",
       "      <td>poison</td>\n",
       "      <td>6.9</td>\n",
       "      <td>1</td>\n",
       "      <td>0</td>\n",
       "    </tr>\n",
       "    <tr>\n",
       "      <th>1</th>\n",
       "      <td>['Overgrow', 'Chlorophyll']</td>\n",
       "      <td>1.0</td>\n",
       "      <td>1.0</td>\n",
       "      <td>1.0</td>\n",
       "      <td>0.5</td>\n",
       "      <td>0.5</td>\n",
       "      <td>0.5</td>\n",
       "      <td>2.0</td>\n",
       "      <td>2.0</td>\n",
       "      <td>1.0</td>\n",
       "      <td>0.25</td>\n",
       "      <td>1.0</td>\n",
       "      <td>2.0</td>\n",
       "      <td>1.0</td>\n",
       "      <td>1.0</td>\n",
       "      <td>2.0</td>\n",
       "      <td>1.0</td>\n",
       "      <td>1.0</td>\n",
       "      <td>0.5</td>\n",
       "      <td>62</td>\n",
       "      <td>5120</td>\n",
       "      <td>70</td>\n",
       "      <td>405</td>\n",
       "      <td>45</td>\n",
       "      <td>Seed Pokémon</td>\n",
       "      <td>63</td>\n",
       "      <td>1059860</td>\n",
       "      <td>1.0</td>\n",
       "      <td>60</td>\n",
       "      <td>Fushigisouフシギソウ</td>\n",
       "      <td>Ivysaur</td>\n",
       "      <td>88.1</td>\n",
       "      <td>2</td>\n",
       "      <td>80</td>\n",
       "      <td>80</td>\n",
       "      <td>60</td>\n",
       "      <td>grass</td>\n",
       "      <td>poison</td>\n",
       "      <td>13.0</td>\n",
       "      <td>1</td>\n",
       "      <td>0</td>\n",
       "    </tr>\n",
       "    <tr>\n",
       "      <th>2</th>\n",
       "      <td>['Overgrow', 'Chlorophyll']</td>\n",
       "      <td>1.0</td>\n",
       "      <td>1.0</td>\n",
       "      <td>1.0</td>\n",
       "      <td>0.5</td>\n",
       "      <td>0.5</td>\n",
       "      <td>0.5</td>\n",
       "      <td>2.0</td>\n",
       "      <td>2.0</td>\n",
       "      <td>1.0</td>\n",
       "      <td>0.25</td>\n",
       "      <td>1.0</td>\n",
       "      <td>2.0</td>\n",
       "      <td>1.0</td>\n",
       "      <td>1.0</td>\n",
       "      <td>2.0</td>\n",
       "      <td>1.0</td>\n",
       "      <td>1.0</td>\n",
       "      <td>0.5</td>\n",
       "      <td>100</td>\n",
       "      <td>5120</td>\n",
       "      <td>70</td>\n",
       "      <td>625</td>\n",
       "      <td>45</td>\n",
       "      <td>Seed Pokémon</td>\n",
       "      <td>123</td>\n",
       "      <td>1059860</td>\n",
       "      <td>2.0</td>\n",
       "      <td>80</td>\n",
       "      <td>Fushigibanaフシギバナ</td>\n",
       "      <td>Venusaur</td>\n",
       "      <td>88.1</td>\n",
       "      <td>3</td>\n",
       "      <td>122</td>\n",
       "      <td>120</td>\n",
       "      <td>80</td>\n",
       "      <td>grass</td>\n",
       "      <td>poison</td>\n",
       "      <td>100.0</td>\n",
       "      <td>1</td>\n",
       "      <td>0</td>\n",
       "    </tr>\n",
       "    <tr>\n",
       "      <th>3</th>\n",
       "      <td>['Blaze', 'Solar Power']</td>\n",
       "      <td>0.5</td>\n",
       "      <td>1.0</td>\n",
       "      <td>1.0</td>\n",
       "      <td>1.0</td>\n",
       "      <td>0.5</td>\n",
       "      <td>1.0</td>\n",
       "      <td>0.5</td>\n",
       "      <td>1.0</td>\n",
       "      <td>1.0</td>\n",
       "      <td>0.50</td>\n",
       "      <td>2.0</td>\n",
       "      <td>0.5</td>\n",
       "      <td>1.0</td>\n",
       "      <td>1.0</td>\n",
       "      <td>1.0</td>\n",
       "      <td>2.0</td>\n",
       "      <td>0.5</td>\n",
       "      <td>2.0</td>\n",
       "      <td>52</td>\n",
       "      <td>5120</td>\n",
       "      <td>70</td>\n",
       "      <td>309</td>\n",
       "      <td>45</td>\n",
       "      <td>Lizard Pokémon</td>\n",
       "      <td>43</td>\n",
       "      <td>1059860</td>\n",
       "      <td>0.6</td>\n",
       "      <td>39</td>\n",
       "      <td>Hitokageヒトカゲ</td>\n",
       "      <td>Charmander</td>\n",
       "      <td>88.1</td>\n",
       "      <td>4</td>\n",
       "      <td>60</td>\n",
       "      <td>50</td>\n",
       "      <td>65</td>\n",
       "      <td>fire</td>\n",
       "      <td>NaN</td>\n",
       "      <td>8.5</td>\n",
       "      <td>1</td>\n",
       "      <td>0</td>\n",
       "    </tr>\n",
       "    <tr>\n",
       "      <th>4</th>\n",
       "      <td>['Blaze', 'Solar Power']</td>\n",
       "      <td>0.5</td>\n",
       "      <td>1.0</td>\n",
       "      <td>1.0</td>\n",
       "      <td>1.0</td>\n",
       "      <td>0.5</td>\n",
       "      <td>1.0</td>\n",
       "      <td>0.5</td>\n",
       "      <td>1.0</td>\n",
       "      <td>1.0</td>\n",
       "      <td>0.50</td>\n",
       "      <td>2.0</td>\n",
       "      <td>0.5</td>\n",
       "      <td>1.0</td>\n",
       "      <td>1.0</td>\n",
       "      <td>1.0</td>\n",
       "      <td>2.0</td>\n",
       "      <td>0.5</td>\n",
       "      <td>2.0</td>\n",
       "      <td>64</td>\n",
       "      <td>5120</td>\n",
       "      <td>70</td>\n",
       "      <td>405</td>\n",
       "      <td>45</td>\n",
       "      <td>Flame Pokémon</td>\n",
       "      <td>58</td>\n",
       "      <td>1059860</td>\n",
       "      <td>1.1</td>\n",
       "      <td>58</td>\n",
       "      <td>Lizardoリザード</td>\n",
       "      <td>Charmeleon</td>\n",
       "      <td>88.1</td>\n",
       "      <td>5</td>\n",
       "      <td>80</td>\n",
       "      <td>65</td>\n",
       "      <td>80</td>\n",
       "      <td>fire</td>\n",
       "      <td>NaN</td>\n",
       "      <td>19.0</td>\n",
       "      <td>1</td>\n",
       "      <td>0</td>\n",
       "    </tr>\n",
       "  </tbody>\n",
       "</table>\n",
       "</div>"
      ],
      "text/plain": [
       "                     abilities  against_bug  against_dark  against_dragon  \\\n",
       "0  ['Overgrow', 'Chlorophyll']          1.0           1.0             1.0   \n",
       "1  ['Overgrow', 'Chlorophyll']          1.0           1.0             1.0   \n",
       "2  ['Overgrow', 'Chlorophyll']          1.0           1.0             1.0   \n",
       "3     ['Blaze', 'Solar Power']          0.5           1.0             1.0   \n",
       "4     ['Blaze', 'Solar Power']          0.5           1.0             1.0   \n",
       "\n",
       "   against_electric  against_fairy  against_fight  against_fire  \\\n",
       "0               0.5            0.5            0.5           2.0   \n",
       "1               0.5            0.5            0.5           2.0   \n",
       "2               0.5            0.5            0.5           2.0   \n",
       "3               1.0            0.5            1.0           0.5   \n",
       "4               1.0            0.5            1.0           0.5   \n",
       "\n",
       "   against_flying  against_ghost  against_grass  against_ground  against_ice  \\\n",
       "0             2.0            1.0           0.25             1.0          2.0   \n",
       "1             2.0            1.0           0.25             1.0          2.0   \n",
       "2             2.0            1.0           0.25             1.0          2.0   \n",
       "3             1.0            1.0           0.50             2.0          0.5   \n",
       "4             1.0            1.0           0.50             2.0          0.5   \n",
       "\n",
       "   against_normal  against_poison  against_psychic  against_rock  \\\n",
       "0             1.0             1.0              2.0           1.0   \n",
       "1             1.0             1.0              2.0           1.0   \n",
       "2             1.0             1.0              2.0           1.0   \n",
       "3             1.0             1.0              1.0           2.0   \n",
       "4             1.0             1.0              1.0           2.0   \n",
       "\n",
       "   against_steel  against_water  attack  base_egg_steps  base_happiness  \\\n",
       "0            1.0            0.5      49            5120              70   \n",
       "1            1.0            0.5      62            5120              70   \n",
       "2            1.0            0.5     100            5120              70   \n",
       "3            0.5            2.0      52            5120              70   \n",
       "4            0.5            2.0      64            5120              70   \n",
       "\n",
       "   base_total capture_rate   classfication  defense  experience_growth  \\\n",
       "0         318           45    Seed Pokémon       49            1059860   \n",
       "1         405           45    Seed Pokémon       63            1059860   \n",
       "2         625           45    Seed Pokémon      123            1059860   \n",
       "3         309           45  Lizard Pokémon       43            1059860   \n",
       "4         405           45   Flame Pokémon       58            1059860   \n",
       "\n",
       "   height_m  hp     japanese_name        name  percentage_male  \\\n",
       "0       0.7  45  Fushigidaneフシギダネ   Bulbasaur             88.1   \n",
       "1       1.0  60   Fushigisouフシギソウ     Ivysaur             88.1   \n",
       "2       2.0  80  Fushigibanaフシギバナ    Venusaur             88.1   \n",
       "3       0.6  39      Hitokageヒトカゲ  Charmander             88.1   \n",
       "4       1.1  58       Lizardoリザード  Charmeleon             88.1   \n",
       "\n",
       "   pokedex_number  sp_attack  sp_defense  speed  type1   type2  weight_kg  \\\n",
       "0               1         65          65     45  grass  poison        6.9   \n",
       "1               2         80          80     60  grass  poison       13.0   \n",
       "2               3        122         120     80  grass  poison      100.0   \n",
       "3               4         60          50     65   fire     NaN        8.5   \n",
       "4               5         80          65     80   fire     NaN       19.0   \n",
       "\n",
       "   generation  is_legendary  \n",
       "0           1             0  \n",
       "1           1             0  \n",
       "2           1             0  \n",
       "3           1             0  \n",
       "4           1             0  "
      ]
     },
     "execution_count": 40,
     "metadata": {},
     "output_type": "execute_result"
    }
   ],
   "source": [
    "#Preview data\n",
    "df.head()"
   ]
  },
  {
   "cell_type": "code",
   "execution_count": 9,
   "metadata": {
    "scrolled": true
   },
   "outputs": [
    {
     "data": {
      "text/plain": [
       "abilities              0\n",
       "against_bug            0\n",
       "against_dark           0\n",
       "against_dragon         0\n",
       "against_electric       0\n",
       "against_fairy          0\n",
       "against_fight          0\n",
       "against_fire           0\n",
       "against_flying         0\n",
       "against_ghost          0\n",
       "against_grass          0\n",
       "against_ground         0\n",
       "against_ice            0\n",
       "against_normal         0\n",
       "against_poison         0\n",
       "against_psychic        0\n",
       "against_rock           0\n",
       "against_steel          0\n",
       "against_water          0\n",
       "attack                 0\n",
       "base_egg_steps         0\n",
       "base_happiness         0\n",
       "base_total             0\n",
       "capture_rate           0\n",
       "classfication          0\n",
       "defense                0\n",
       "experience_growth      0\n",
       "height_m              20\n",
       "hp                     0\n",
       "japanese_name          0\n",
       "name                   0\n",
       "percentage_male       98\n",
       "pokedex_number         0\n",
       "sp_attack              0\n",
       "sp_defense             0\n",
       "speed                  0\n",
       "type1                  0\n",
       "type2                384\n",
       "weight_kg             20\n",
       "generation             0\n",
       "is_legendary           0\n",
       "dtype: int64"
      ]
     },
     "execution_count": 9,
     "metadata": {},
     "output_type": "execute_result"
    }
   ],
   "source": [
    "#Check NaN or null values\n",
    "df.isna().sum()"
   ]
  },
  {
   "cell_type": "markdown",
   "metadata": {},
   "source": [
    "## Preprocessing"
   ]
  },
  {
   "cell_type": "code",
   "execution_count": 5,
   "metadata": {},
   "outputs": [],
   "source": [
    "#Function to remove rows with unclean or corrupted data\n",
    "#Takes dataf as input and dataf as output\n",
    "def remove_rows(dataf):\n",
    "    \n",
    "    removed_df = dataf.loc[dataf['capture_rate'].str.contains('Meteorite') == False]\n",
    "    \n",
    "    return removed_df  \n",
    "\n",
    "#Function to replace NaN values with the mean value \n",
    "def nan_replace_mean(dataf):\n",
    "    \n",
    "    replaced_df = (dataf\n",
    "                   .assign(height_m = dataf['height_m'].fillna(dataf['height_m'].mean()),\n",
    "                           weight_kg = dataf['weight_kg'].fillna(dataf['weight_kg'].mean()),\n",
    "                           percentage_male = dataf['percentage_male'].fillna(dataf['percentage_male'].mean()))\n",
    "                  ) \n",
    "                      \n",
    "                   \n",
    "    return replaced_df\n",
    "\n",
    "#Function to change the datatypes \n",
    "def change_dtypes(dataf):\n",
    "\n",
    "    changedtype_df = (dataf\n",
    "                      .assign(capture_rate = dataf['capture_rate'].astype(int))\n",
    "                     )\n",
    "    \n",
    "    return changedtype_df\n",
    "\n",
    "#Function to only keep columns needed for relationship questions\n",
    "def keep_columns_relationship(dataf):\n",
    "    \n",
    "    return dataf[['weight_kg', 'height_m', 'attack', 'defense', 'speed', 'capture_rate']]"
   ]
  },
  {
   "cell_type": "code",
   "execution_count": 6,
   "metadata": {
    "scrolled": true
   },
   "outputs": [],
   "source": [
    "#Create clean dataframe for relationship analysis\n",
    "clean_df_relationship = (df\n",
    "                        .pipe(remove_rows)\n",
    "                        .pipe(nan_replace_mean)\n",
    "                        .pipe(change_dtypes)\n",
    "                        .pipe(keep_columns_relationship)\n",
    "                        )"
   ]
  },
  {
   "cell_type": "code",
   "execution_count": 7,
   "metadata": {},
   "outputs": [
    {
     "data": {
      "text/html": [
       "<div>\n",
       "<style scoped>\n",
       "    .dataframe tbody tr th:only-of-type {\n",
       "        vertical-align: middle;\n",
       "    }\n",
       "\n",
       "    .dataframe tbody tr th {\n",
       "        vertical-align: top;\n",
       "    }\n",
       "\n",
       "    .dataframe thead th {\n",
       "        text-align: right;\n",
       "    }\n",
       "</style>\n",
       "<table border=\"1\" class=\"dataframe\">\n",
       "  <thead>\n",
       "    <tr style=\"text-align: right;\">\n",
       "      <th></th>\n",
       "      <th>weight_kg</th>\n",
       "      <th>height_m</th>\n",
       "      <th>attack</th>\n",
       "      <th>defense</th>\n",
       "      <th>speed</th>\n",
       "      <th>capture_rate</th>\n",
       "    </tr>\n",
       "  </thead>\n",
       "  <tbody>\n",
       "    <tr>\n",
       "      <th>0</th>\n",
       "      <td>6.9</td>\n",
       "      <td>0.7</td>\n",
       "      <td>49</td>\n",
       "      <td>49</td>\n",
       "      <td>45</td>\n",
       "      <td>45</td>\n",
       "    </tr>\n",
       "    <tr>\n",
       "      <th>1</th>\n",
       "      <td>13.0</td>\n",
       "      <td>1.0</td>\n",
       "      <td>62</td>\n",
       "      <td>63</td>\n",
       "      <td>60</td>\n",
       "      <td>45</td>\n",
       "    </tr>\n",
       "    <tr>\n",
       "      <th>2</th>\n",
       "      <td>100.0</td>\n",
       "      <td>2.0</td>\n",
       "      <td>100</td>\n",
       "      <td>123</td>\n",
       "      <td>80</td>\n",
       "      <td>45</td>\n",
       "    </tr>\n",
       "    <tr>\n",
       "      <th>3</th>\n",
       "      <td>8.5</td>\n",
       "      <td>0.6</td>\n",
       "      <td>52</td>\n",
       "      <td>43</td>\n",
       "      <td>65</td>\n",
       "      <td>45</td>\n",
       "    </tr>\n",
       "    <tr>\n",
       "      <th>4</th>\n",
       "      <td>19.0</td>\n",
       "      <td>1.1</td>\n",
       "      <td>64</td>\n",
       "      <td>58</td>\n",
       "      <td>80</td>\n",
       "      <td>45</td>\n",
       "    </tr>\n",
       "  </tbody>\n",
       "</table>\n",
       "</div>"
      ],
      "text/plain": [
       "   weight_kg  height_m  attack  defense  speed  capture_rate\n",
       "0        6.9       0.7      49       49     45            45\n",
       "1       13.0       1.0      62       63     60            45\n",
       "2      100.0       2.0     100      123     80            45\n",
       "3        8.5       0.6      52       43     65            45\n",
       "4       19.0       1.1      64       58     80            45"
      ]
     },
     "execution_count": 7,
     "metadata": {},
     "output_type": "execute_result"
    }
   ],
   "source": [
    "clean_df_relationship.head()"
   ]
  },
  {
   "cell_type": "markdown",
   "metadata": {},
   "source": [
    "## What is the relationship between weight and attack?\n",
    "Can we assume that pokemon that weight more tend to have higher attack rates. This would be interesting information when fighting in an area with heavy pokemons"
   ]
  },
  {
   "cell_type": "code",
   "execution_count": 13,
   "metadata": {
    "scrolled": false
   },
   "outputs": [
    {
     "data": {
      "image/png": "[encoded data removed]",
      "text/plain": [
       "<Figure size 360x360 with 1 Axes>"
      ]
     },
     "metadata": {
      "needs_background": "light"
     },
     "output_type": "display_data"
    }
   ],
   "source": [
    "#Function to remove heavy weight pokemon\n",
    "def remove_fatties(dataf, fat=300):\n",
    "    return dataf.loc[lambda d: d['weight_kg'] < fat]\n",
    "\n",
    "#Plot the relationship between weight and attack after removing fatties\n",
    "#We can identify that as the weight increases, the attack stats also seem to increase. Especially for the relative heavy\n",
    "#pokemons. \n",
    "nofat_df = (clean_df_relationship\n",
    "            .pipe(remove_fatties, fat=300)\n",
    "           )\n",
    "\n",
    "sns.lmplot(x='weight_kg',y='attack',data=nofat_df,fit_reg=True);"
   ]
  },
  {
   "cell_type": "code",
   "execution_count": 14,
   "metadata": {
    "scrolled": false
   },
   "outputs": [
    {
     "data": {
      "text/plain": [
       "<seaborn.axisgrid.JointGrid at 0x1b483782808>"
      ]
     },
     "execution_count": 14,
     "metadata": {},
     "output_type": "execute_result"
    },
    {
     "data": {
      "image/png": "[encoded data removed]",
      "text/plain": [
       "<Figure size 432x432 with 3 Axes>"
      ]
     },
     "metadata": {
      "needs_background": "light"
     },
     "output_type": "display_data"
    }
   ],
   "source": [
    "#Plot to show the distribution more clearly\n",
    "sns.jointplot(nofat_df['weight_kg'], nofat_df['attack'], kind='hex')"
   ]
  },
  {
   "cell_type": "code",
   "execution_count": 15,
   "metadata": {
    "scrolled": true
   },
   "outputs": [
    {
     "data": {
      "text/plain": [
       "0.44380689644872073"
      ]
     },
     "execution_count": 15,
     "metadata": {},
     "output_type": "execute_result"
    }
   ],
   "source": [
    "#Correlation between weight and attack\n",
    "#The positive correlation confirms the observed relationship\n",
    "#It would be interesting to evaluate different weight groups of pokemon to see if the relationship is stronger for certain weight groups.\n",
    "nofat_df.corr().loc['weight_kg', 'attack']"
   ]
  },
  {
   "cell_type": "markdown",
   "metadata": {},
   "source": [
    "## What is the relationship between defense and attack?\n",
    "Can we assume that pokemon that have higher defense levels tend to have higher attack rates. Intuitively it would make sense that pokemons with higher attack levels show lower defense stats"
   ]
  },
  {
   "cell_type": "code",
   "execution_count": 16,
   "metadata": {},
   "outputs": [
    {
     "data": {
      "image/png": "[encoded data removed]",
      "text/plain": [
       "<Figure size 360x360 with 1 Axes>"
      ]
     },
     "metadata": {
      "needs_background": "light"
     },
     "output_type": "display_data"
    }
   ],
   "source": [
    "#Plot the relationship between defense and attack\n",
    "#We see that as the defense levels increase, the attack levels also increase\n",
    "sns.lmplot(x='defense',y='attack',data=clean_df_relationship,fit_reg=True);"
   ]
  },
  {
   "cell_type": "code",
   "execution_count": 17,
   "metadata": {
    "scrolled": false
   },
   "outputs": [
    {
     "data": {
      "image/png": "[encoded data removed]",
      "text/plain": [
       "<Figure size 432x432 with 3 Axes>"
      ]
     },
     "metadata": {
      "needs_background": "light"
     },
     "output_type": "display_data"
    }
   ],
   "source": [
    "#Plot to show the distribution more clearly\n",
    "#We see a high concentration of pokemons that have between 50 and 75 attack + defense\n",
    "sns.jointplot(clean_df_relationship['defense'], clean_df_relationship['attack'], kind='hex');"
   ]
  },
  {
   "cell_type": "code",
   "execution_count": 18,
   "metadata": {},
   "outputs": [
    {
     "data": {
      "text/plain": [
       "0.46947104195890527"
      ]
     },
     "execution_count": 18,
     "metadata": {},
     "output_type": "execute_result"
    }
   ],
   "source": [
    "#Correlation between defense and attack\n",
    "#The positive correlation coefficient shows the positive relationship between defense and attack\n",
    "clean_df_relationship.corr().loc['defense', 'attack']"
   ]
  },
  {
   "cell_type": "markdown",
   "metadata": {},
   "source": [
    "## What is the relationship between speed and capture rate?\n",
    "Can we assume that faster pokemon are harder to catch. This would be interesting to know before trying to catch fast pokemon."
   ]
  },
  {
   "cell_type": "code",
   "execution_count": 19,
   "metadata": {
    "scrolled": false
   },
   "outputs": [
    {
     "data": {
      "image/png": "[encoded data removed]",
      "text/plain": [
       "<Figure size 360x360 with 1 Axes>"
      ]
     },
     "metadata": {
      "needs_background": "light"
     },
     "output_type": "display_data"
    }
   ],
   "source": [
    "#Plot the relationship between speed and capture rate\n",
    "#We see that as the speed of the pokemon increases, it becomes more difficult to catch the pokemon\n",
    "sns.lmplot(x='speed',y='capture_rate',data=clean_df_relationship,fit_reg=True);"
   ]
  },
  {
   "cell_type": "code",
   "execution_count": 20,
   "metadata": {},
   "outputs": [
    {
     "data": {
      "image/png": "[encoded data removed]",
      "text/plain": [
       "<Figure size 432x432 with 3 Axes>"
      ]
     },
     "metadata": {
      "needs_background": "light"
     },
     "output_type": "display_data"
    }
   ],
   "source": [
    "#Plot to show the distribution more clearly\n",
    "sns.jointplot(clean_df_relationship['speed'], clean_df_relationship['capture_rate'], kind='hex');"
   ]
  },
  {
   "cell_type": "code",
   "execution_count": 21,
   "metadata": {},
   "outputs": [
    {
     "data": {
      "text/plain": [
       "-0.38356950088436026"
      ]
     },
     "execution_count": 21,
     "metadata": {},
     "output_type": "execute_result"
    }
   ],
   "source": [
    "#Correlation between speed and capture rate\n",
    "#The negative correlation coefficient shows the negative relationship between speed and capture rate\n",
    "clean_df_relationship.corr().loc['speed', 'capture_rate']"
   ]
  },
  {
   "cell_type": "markdown",
   "metadata": {},
   "source": [
    "## What is the relationship between height and weight?\n",
    "Can we assume that tall pokemon tend to weigh more. This would be make sense intuitively.\n"
   ]
  },
  {
   "cell_type": "code",
   "execution_count": 22,
   "metadata": {},
   "outputs": [
    {
     "data": {
      "image/png": "[encoded data removed]",
      "text/plain": [
       "<Figure size 360x360 with 1 Axes>"
      ]
     },
     "metadata": {
      "needs_background": "light"
     },
     "output_type": "display_data"
    }
   ],
   "source": [
    "#Function to remove  tall pokemon\n",
    "def remove_tall(dataf, tall=3):\n",
    "    return dataf.loc[lambda d: d['height_m'] < tall]\n",
    "\n",
    "#Create dataframe with fatties and tall pokemon removed\n",
    "nofat_notall_df = (clean_df_relationship\n",
    "                   .pipe(remove_fatties, fat=300)\n",
    "                   .pipe(remove_tall, tall=3)\n",
    "                  )\n",
    "\n",
    "#Plot the relationship between height and weight on dataframe without fatties and tall\n",
    "#We can see that as the height increases the weight also tends to increase and vice versa\n",
    "sns.lmplot(x='height_m',y='weight_kg',data=nofat_notall_df,fit_reg=True);"
   ]
  },
  {
   "cell_type": "code",
   "execution_count": 23,
   "metadata": {},
   "outputs": [
    {
     "data": {
      "image/png": "[encoded data removed]",
      "text/plain": [
       "<Figure size 432x432 with 3 Axes>"
      ]
     },
     "metadata": {
      "needs_background": "light"
     },
     "output_type": "display_data"
    }
   ],
   "source": [
    "#Plot to show the distribution more clearly\n",
    "sns.jointplot(nofat_notall_df['height_m'], nofat_notall_df['weight_kg'], kind='hex');"
   ]
  },
  {
   "cell_type": "code",
   "execution_count": 24,
   "metadata": {},
   "outputs": [
    {
     "data": {
      "text/plain": [
       "0.7260451872711892"
      ]
     },
     "execution_count": 24,
     "metadata": {},
     "output_type": "execute_result"
    }
   ],
   "source": [
    "#Correlation between height and weight \n",
    "#The positive correlation coefficient confirms this positive relationship\n",
    "nofat_notall_df.corr().loc['height_m', 'weight_kg']"
   ]
  },
  {
   "cell_type": "markdown",
   "metadata": {},
   "source": [
    "## Can we build a pokemon dream team?\n",
    "### Subquestion: Are legendary pokemons better than non-legendary pokemons?"
   ]
  },
  {
   "cell_type": "code",
   "execution_count": 25,
   "metadata": {},
   "outputs": [],
   "source": [
    "#Function to add total columns for attack, defense and against damage\n",
    "def generation_filter(dataf, generation=1):\n",
    "    \n",
    "    return dataf.loc[dataf['generation'] == generation]\n",
    "\n",
    "\n",
    "def totals(dataf):\n",
    "    add_totals = (dataf\n",
    "                  .assign(total_attack = dataf['attack'] + dataf['sp_attack'],\n",
    "                          total_defense = dataf['defense'] + dataf['sp_defense'],\n",
    "                          total_against = (dataf\n",
    "                                          .filter(regex='against.*')\n",
    "                                          .sum(axis=1)\n",
    "                                          )\n",
    "                         )\n",
    "                 )\n",
    "    \n",
    "    return add_totals\n",
    "\n",
    "#Function to group by is_legendary and evaluate mean difference\n",
    "def legendary_difference(dataf):\n",
    "    grouped = (dataf\n",
    "               .groupby('is_legendary')\n",
    "               .agg(mean_total_attack=('total_attack', np.mean),\n",
    "                    mean_total_defense=('total_defense', np.mean),\n",
    "                    mean_total_against=('total_against', np.mean),\n",
    "                    mean_total_basee=('base_total', np.mean)\n",
    "                   )\n",
    "              )\n",
    "    \n",
    "    return grouped"
   ]
  },
  {
   "cell_type": "code",
   "execution_count": 26,
   "metadata": {},
   "outputs": [],
   "source": [
    "#Create clean dataframe including the totals to work with\n",
    "clean_df_dreamteam_all = (df\n",
    "                          .pipe(totals)\n",
    "                         )"
   ]
  },
  {
   "cell_type": "code",
   "execution_count": 43,
   "metadata": {
    "scrolled": false
   },
   "outputs": [
    {
     "ename": "NameError",
     "evalue": "name 'clean_df_dreamteam_all' is not defined",
     "output_type": "error",
     "traceback": [
      "\u001b[1;31m---------------------------------------------------------------------------\u001b[0m",
      "\u001b[1;31mNameError\u001b[0m                                 Traceback (most recent call last)",
      "\u001b[1;32m<ipython-input-43-4727b6241c85>\u001b[0m in \u001b[0;36m<module>\u001b[1;34m\u001b[0m\n\u001b[0;32m      2\u001b[0m \u001b[1;31m#Especially base total seems to be higher for legendary pokemons\u001b[0m\u001b[1;33m\u001b[0m\u001b[1;33m\u001b[0m\u001b[1;33m\u001b[0m\u001b[0m\n\u001b[0;32m      3\u001b[0m \u001b[0mplt\u001b[0m\u001b[1;33m.\u001b[0m\u001b[0mfigure\u001b[0m\u001b[1;33m(\u001b[0m\u001b[0mfigsize\u001b[0m\u001b[1;33m=\u001b[0m\u001b[1;33m(\u001b[0m\u001b[1;36m10\u001b[0m\u001b[1;33m,\u001b[0m\u001b[1;36m8\u001b[0m\u001b[1;33m)\u001b[0m\u001b[1;33m)\u001b[0m\u001b[1;33m\u001b[0m\u001b[1;33m\u001b[0m\u001b[0m\n\u001b[1;32m----> 4\u001b[1;33m \u001b[0msns\u001b[0m\u001b[1;33m.\u001b[0m\u001b[0mscatterplot\u001b[0m\u001b[1;33m(\u001b[0m\u001b[0mx\u001b[0m\u001b[1;33m=\u001b[0m\u001b[1;34m'base_total'\u001b[0m\u001b[1;33m,\u001b[0m \u001b[0my\u001b[0m\u001b[1;33m=\u001b[0m\u001b[1;34m'total_against'\u001b[0m\u001b[1;33m,\u001b[0m\u001b[0mdata\u001b[0m\u001b[1;33m=\u001b[0m\u001b[0mclean_df_dreamteam_all\u001b[0m\u001b[1;33m,\u001b[0m \u001b[0mhue\u001b[0m\u001b[1;33m=\u001b[0m\u001b[1;34m'is_legendary'\u001b[0m\u001b[1;33m)\u001b[0m\u001b[1;33m;\u001b[0m\u001b[1;33m\u001b[0m\u001b[1;33m\u001b[0m\u001b[0m\n\u001b[0m",
      "\u001b[1;31mNameError\u001b[0m: name 'clean_df_dreamteam_all' is not defined"
     ]
    },
    {
     "data": {
      "text/plain": [
       "<Figure size 720x576 with 0 Axes>"
      ]
     },
     "metadata": {},
     "output_type": "display_data"
    }
   ],
   "source": [
    "#Evaluate whether legendary pokemons perform better\n",
    "#Especially base total seems to be higher for legendary pokemons\n",
    "plt.figure(figsize=(10,8))\n",
    "sns.scatterplot(x='base_total', y='total_against',data=clean_df_dreamteam_all, hue='is_legendary');"
   ]
  },
  {
   "cell_type": "code",
   "execution_count": 28,
   "metadata": {
    "scrolled": false
   },
   "outputs": [
    {
     "data": {
      "text/plain": [
       "<matplotlib.axes._subplots.AxesSubplot at 0x1b48473b2c8>"
      ]
     },
     "execution_count": 28,
     "metadata": {},
     "output_type": "execute_result"
    },
    {
     "data": {
      "image/png": "[encoded data removed]",
      "text/plain": [
       "<Figure size 720x576 with 1 Axes>"
      ]
     },
     "metadata": {
      "needs_background": "light"
     },
     "output_type": "display_data"
    }
   ],
   "source": [
    "#Total attack seems to be higher for legendary pokemons\n",
    "plt.figure(figsize=(10,8))\n",
    "sns.scatterplot(x='total_attack', y='total_against',data=clean_df_dreamteam_all, hue='is_legendary');"
   ]
  },
  {
   "cell_type": "code",
   "execution_count": 29,
   "metadata": {},
   "outputs": [
    {
     "data": {
      "text/html": [
       "<div>\n",
       "<style scoped>\n",
       "    .dataframe tbody tr th:only-of-type {\n",
       "        vertical-align: middle;\n",
       "    }\n",
       "\n",
       "    .dataframe tbody tr th {\n",
       "        vertical-align: top;\n",
       "    }\n",
       "\n",
       "    .dataframe thead th {\n",
       "        text-align: right;\n",
       "    }\n",
       "</style>\n",
       "<table border=\"1\" class=\"dataframe\">\n",
       "  <thead>\n",
       "    <tr style=\"text-align: right;\">\n",
       "      <th></th>\n",
       "      <th>mean_total_attack</th>\n",
       "      <th>mean_total_defense</th>\n",
       "      <th>mean_total_against</th>\n",
       "      <th>mean_total_basee</th>\n",
       "    </tr>\n",
       "    <tr>\n",
       "      <th>is_legendary</th>\n",
       "      <th></th>\n",
       "      <th></th>\n",
       "      <th></th>\n",
       "      <th></th>\n",
       "    </tr>\n",
       "  </thead>\n",
       "  <tbody>\n",
       "    <tr>\n",
       "      <th>0</th>\n",
       "      <td>142.082079</td>\n",
       "      <td>138.426813</td>\n",
       "      <td>19.056772</td>\n",
       "      <td>410.481532</td>\n",
       "    </tr>\n",
       "    <tr>\n",
       "      <th>1</th>\n",
       "      <td>223.114286</td>\n",
       "      <td>201.285714</td>\n",
       "      <td>18.910714</td>\n",
       "      <td>615.257143</td>\n",
       "    </tr>\n",
       "  </tbody>\n",
       "</table>\n",
       "</div>"
      ],
      "text/plain": [
       "              mean_total_attack  mean_total_defense  mean_total_against  \\\n",
       "is_legendary                                                              \n",
       "0                    142.082079          138.426813           19.056772   \n",
       "1                    223.114286          201.285714           18.910714   \n",
       "\n",
       "              mean_total_basee  \n",
       "is_legendary                    \n",
       "0                   410.481532  \n",
       "1                   615.257143  "
      ]
     },
     "execution_count": 29,
     "metadata": {},
     "output_type": "execute_result"
    }
   ],
   "source": [
    "#Evaluate mean differences between the two groups\n",
    "clean_df_dreamteam_all.pipe(legendary_difference)"
   ]
  },
  {
   "cell_type": "code",
   "execution_count": 30,
   "metadata": {},
   "outputs": [],
   "source": [
    "#Zoom into only generation 1 pokemon\n",
    "clean_df_dreamteam_gen_1 = (df\n",
    "                            .pipe(totals)\n",
    "                            .pipe(generation_filter)\n",
    "                           )"
   ]
  },
  {
   "cell_type": "code",
   "execution_count": 31,
   "metadata": {},
   "outputs": [],
   "source": [
    "#Function to get top 10 pokemon with the highest attack and lowest against damage\n",
    "def best_attack_against(dataf, number=10):\n",
    "    attack_against = (dataf\n",
    "                          .sort_values(by=['total_attack', 'total_against'], ascending=[False,True])\n",
    "                          .head(number)\n",
    "                         )\n",
    "\n",
    "    return attack_against"
   ]
  },
  {
   "cell_type": "code",
   "execution_count": 32,
   "metadata": {
    "scrolled": false
   },
   "outputs": [
    {
     "data": {
      "text/html": [
       "<div>\n",
       "<style scoped>\n",
       "    .dataframe tbody tr th:only-of-type {\n",
       "        vertical-align: middle;\n",
       "    }\n",
       "\n",
       "    .dataframe tbody tr th {\n",
       "        vertical-align: top;\n",
       "    }\n",
       "\n",
       "    .dataframe thead th {\n",
       "        text-align: right;\n",
       "    }\n",
       "</style>\n",
       "<table border=\"1\" class=\"dataframe\">\n",
       "  <thead>\n",
       "    <tr style=\"text-align: right;\">\n",
       "      <th></th>\n",
       "      <th>name</th>\n",
       "      <th>total_attack</th>\n",
       "      <th>total_against</th>\n",
       "    </tr>\n",
       "  </thead>\n",
       "  <tbody>\n",
       "    <tr>\n",
       "      <th>149</th>\n",
       "      <td>Mewtwo</td>\n",
       "      <td>344</td>\n",
       "      <td>20.00</td>\n",
       "    </tr>\n",
       "    <tr>\n",
       "      <th>5</th>\n",
       "      <td>Charizard</td>\n",
       "      <td>263</td>\n",
       "      <td>18.50</td>\n",
       "    </tr>\n",
       "    <tr>\n",
       "      <th>8</th>\n",
       "      <td>Blastoise</td>\n",
       "      <td>238</td>\n",
       "      <td>18.00</td>\n",
       "    </tr>\n",
       "    <tr>\n",
       "      <th>93</th>\n",
       "      <td>Gengar</td>\n",
       "      <td>235</td>\n",
       "      <td>17.50</td>\n",
       "    </tr>\n",
       "    <tr>\n",
       "      <th>148</th>\n",
       "      <td>Dragonite</td>\n",
       "      <td>234</td>\n",
       "      <td>20.25</td>\n",
       "    </tr>\n",
       "    <tr>\n",
       "      <th>102</th>\n",
       "      <td>Exeggutor</td>\n",
       "      <td>230</td>\n",
       "      <td>24.00</td>\n",
       "    </tr>\n",
       "  </tbody>\n",
       "</table>\n",
       "</div>"
      ],
      "text/plain": [
       "          name  total_attack  total_against\n",
       "149     Mewtwo           344          20.00\n",
       "5    Charizard           263          18.50\n",
       "8    Blastoise           238          18.00\n",
       "93      Gengar           235          17.50\n",
       "148  Dragonite           234          20.25\n",
       "102  Exeggutor           230          24.00"
      ]
     },
     "execution_count": 32,
     "metadata": {},
     "output_type": "execute_result"
    }
   ],
   "source": [
    "#Create dataframes for pokemon with max attack and min damage against ()\n",
    "#The first 6 pokemon would be the best combination when looking at maximum attack versus minimal damage infliction\n",
    "best_attack_against_df = clean_df_dreamteam_gen_1.pipe(best_attack_against)\n",
    "best_attack_against_df.head(6)[['name','total_attack', 'total_against']]"
   ]
  },
  {
   "cell_type": "code",
   "execution_count": 33,
   "metadata": {},
   "outputs": [],
   "source": [
    "#Function to use trial and error to find the best team of pokemons\n",
    "#Steps:\n",
    "#1)Select a random team of 6 pokemon\n",
    "#2)Calculate team's average total attack, the higher the better\n",
    "#3)Check that for each against_type, we have at least one pokemon that resists it (0.5 damage or less is acceptable)\n",
    "#4)Initiate a counter that increases for every against_type that the team is unable to resist\n",
    "#5)Sum the counter, the lower the better\n",
    "#6)Store the 6 pokemon together with the total attack, resist counter and the team number in the dataframe\n",
    "#7)Repeat to find the best team\n",
    "\n",
    "def pokemon_selection(dataf, n=2):\n",
    "    \n",
    "    selection_df = pd.DataFrame(columns=['name', 'average_attack', 'damage_counter', 'team_number'])\n",
    "    \n",
    "    for trial in range(n):\n",
    "        damage_counter = 0\n",
    "        sample = dataf.sample(6)\n",
    "        for against in sample.filter(regex='against').columns:\n",
    "            if any(sample[against] < 1):\n",
    "                damage_counter +=1\n",
    "        \n",
    "        selection = (pd.DataFrame({'name' : sample['name'],\n",
    "                                   'average_attack': sample['total_attack'].mean(),\n",
    "                                   'damage_counter': damage_counter,\n",
    "                                   'team_number': trial}\n",
    "                                 )\n",
    "                    )\n",
    "        \n",
    "        selection_df = pd.concat([selection_df, selection])\n",
    "        \n",
    "    return selection_df  \n",
    "\n",
    "#Function to get top 6 pokemon with the highest average attack and lowest damage counter\n",
    "def best_attack_damage(dataf, number=6):\n",
    "    attack_damage = (dataf\n",
    "                          .sort_values(by=['average_attack', 'damage_counter'], ascending=[False,True])\n",
    "                          .head(number)\n",
    "                         )\n",
    "\n",
    "    return attack_damage"
   ]
  },
  {
   "cell_type": "code",
   "execution_count": 1,
   "metadata": {
    "scrolled": true
   },
   "outputs": [],
   "source": [
    "#Draw 500 samples of 6 pokemon and evaluate which pokemon have the highest average damage and lowest damage_counter\n",
    "best_attack_damage_df = (clean_df_dreamteam_gen_1\n",
    "                         .pipe(pokemon_selection, n=1000)\n",
    "                         .pipe(best_attack_damage)\n",
    "                        )\n",
    "best_attack_damage_df"
   ]
  },
  {
   "cell_type": "code",
   "execution_count": null,
   "metadata": {},
   "outputs": [],
   "source": [
    "best_attack_damage_df = (clean_df_dreamteam_gen_1\n",
    "                         .pipe(pokemon_selection, n=5000)\n",
    "                         .pipe(best_attack_damage)\n",
    "                        )\n",
    "best_attack_damage_df"
   ]
  },
  {
   "cell_type": "code",
   "execution_count": null,
   "metadata": {},
   "outputs": [],
   "source": [
    "best_attack_damage_df = (clean_df_dreamteam_1\n",
    "                         .pipe(pokemon_selection, n=50000)\n",
    "                         .pipe(best_attack_damage)\n",
    "                        )\n",
    "best_attack_damage_df"
   ]
  },
  {
   "cell_type": "markdown",
   "metadata": {},
   "source": [
    "## Can we predict whether a pokemon is legendary based on their stats and type?"
   ]
  },
  {
   "cell_type": "code",
   "execution_count": 74,
   "metadata": {},
   "outputs": [],
   "source": [
    "#Import libraries to build model\n",
    "from sklearn.model_selection import train_test_split\n",
    "from sklearn.ensemble import RandomForestClassifier\n",
    "from sklearn.metrics import classification_report, confusion_matrix\n",
    "from sklearn.metrics import plot_roc_curve\n",
    "from sklearn.pipeline import Pipeline\n",
    "from sklearn.compose import ColumnTransformer, make_column_transformer\n",
    "from sklearn.preprocessing import FunctionTransformer\n",
    "from sklearn.preprocessing import OneHotEncoder\n",
    "from sklearn.preprocessing import StandardScaler\n",
    "from sklearn.model_selection import GridSearchCV\n",
    "from sklearn.impute import SimpleImputer"
   ]
  },
  {
   "cell_type": "code",
   "execution_count": 8,
   "metadata": {},
   "outputs": [],
   "source": [
    "#Function to only keep columns needed for classifier\n",
    "def keep_columns_classifier(dataf):\n",
    "    \n",
    "    remove_columns = ['abilities', 'classfication', 'japanese_name', 'name', 'type2']\n",
    "    keep_columns = list(dataf.columns)\n",
    "    \n",
    "    for column in remove_columns:\n",
    "        keep_columns.remove(column)\n",
    "\n",
    "    return dataf[keep_columns]"
   ]
  },
  {
   "cell_type": "code",
   "execution_count": 9,
   "metadata": {},
   "outputs": [],
   "source": [
    "#Preprocess data\n",
    "#Perform nan replacement after splitting into train and test\n",
    "clean_df_classifier = (df\n",
    "                        .pipe(remove_rows)\n",
    "                        .pipe(change_dtypes)\n",
    "                        .pipe(keep_columns_classifier)\n",
    "                      )"
   ]
  },
  {
   "cell_type": "code",
   "execution_count": 12,
   "metadata": {},
   "outputs": [],
   "source": [
    "#Define features and predictor\n",
    "X = clean_df_classifier.drop('is_legendary', axis=1)\n",
    "y = clean_df_classifier['is_legendary']\n",
    "    \n",
    "#Split in train and test dataset\n",
    "X_train, X_test, y_train, y_test = train_test_split(X, y, test_size=0.30, random_state=101)"
   ]
  },
  {
   "cell_type": "code",
   "execution_count": 13,
   "metadata": {
    "scrolled": true
   },
   "outputs": [
    {
     "data": {
      "text/html": [
       "<div>\n",
       "<style scoped>\n",
       "    .dataframe tbody tr th:only-of-type {\n",
       "        vertical-align: middle;\n",
       "    }\n",
       "\n",
       "    .dataframe tbody tr th {\n",
       "        vertical-align: top;\n",
       "    }\n",
       "\n",
       "    .dataframe thead th {\n",
       "        text-align: right;\n",
       "    }\n",
       "</style>\n",
       "<table border=\"1\" class=\"dataframe\">\n",
       "  <thead>\n",
       "    <tr style=\"text-align: right;\">\n",
       "      <th></th>\n",
       "      <th>against_bug</th>\n",
       "      <th>against_dark</th>\n",
       "      <th>against_dragon</th>\n",
       "      <th>against_electric</th>\n",
       "      <th>against_fairy</th>\n",
       "      <th>against_fight</th>\n",
       "      <th>against_fire</th>\n",
       "      <th>against_flying</th>\n",
       "      <th>against_ghost</th>\n",
       "      <th>against_grass</th>\n",
       "      <th>against_ground</th>\n",
       "      <th>against_ice</th>\n",
       "      <th>against_normal</th>\n",
       "      <th>against_poison</th>\n",
       "      <th>against_psychic</th>\n",
       "      <th>against_rock</th>\n",
       "      <th>against_steel</th>\n",
       "      <th>against_water</th>\n",
       "      <th>attack</th>\n",
       "      <th>base_egg_steps</th>\n",
       "      <th>base_happiness</th>\n",
       "      <th>base_total</th>\n",
       "      <th>capture_rate</th>\n",
       "      <th>defense</th>\n",
       "      <th>experience_growth</th>\n",
       "      <th>height_m</th>\n",
       "      <th>hp</th>\n",
       "      <th>percentage_male</th>\n",
       "      <th>pokedex_number</th>\n",
       "      <th>sp_attack</th>\n",
       "      <th>sp_defense</th>\n",
       "      <th>speed</th>\n",
       "      <th>type1</th>\n",
       "      <th>weight_kg</th>\n",
       "      <th>generation</th>\n",
       "    </tr>\n",
       "  </thead>\n",
       "  <tbody>\n",
       "    <tr>\n",
       "      <th>0</th>\n",
       "      <td>1.0</td>\n",
       "      <td>1.0</td>\n",
       "      <td>1.0</td>\n",
       "      <td>0.5</td>\n",
       "      <td>0.5</td>\n",
       "      <td>0.5</td>\n",
       "      <td>2.0</td>\n",
       "      <td>2.0</td>\n",
       "      <td>1.0</td>\n",
       "      <td>0.25</td>\n",
       "      <td>1.0</td>\n",
       "      <td>2.0</td>\n",
       "      <td>1.0</td>\n",
       "      <td>1.0</td>\n",
       "      <td>2.0</td>\n",
       "      <td>1.0</td>\n",
       "      <td>1.0</td>\n",
       "      <td>0.5</td>\n",
       "      <td>49</td>\n",
       "      <td>5120</td>\n",
       "      <td>70</td>\n",
       "      <td>318</td>\n",
       "      <td>45</td>\n",
       "      <td>49</td>\n",
       "      <td>1059860</td>\n",
       "      <td>0.7</td>\n",
       "      <td>45</td>\n",
       "      <td>88.1</td>\n",
       "      <td>1</td>\n",
       "      <td>65</td>\n",
       "      <td>65</td>\n",
       "      <td>45</td>\n",
       "      <td>grass</td>\n",
       "      <td>6.9</td>\n",
       "      <td>1</td>\n",
       "    </tr>\n",
       "    <tr>\n",
       "      <th>1</th>\n",
       "      <td>1.0</td>\n",
       "      <td>1.0</td>\n",
       "      <td>1.0</td>\n",
       "      <td>0.5</td>\n",
       "      <td>0.5</td>\n",
       "      <td>0.5</td>\n",
       "      <td>2.0</td>\n",
       "      <td>2.0</td>\n",
       "      <td>1.0</td>\n",
       "      <td>0.25</td>\n",
       "      <td>1.0</td>\n",
       "      <td>2.0</td>\n",
       "      <td>1.0</td>\n",
       "      <td>1.0</td>\n",
       "      <td>2.0</td>\n",
       "      <td>1.0</td>\n",
       "      <td>1.0</td>\n",
       "      <td>0.5</td>\n",
       "      <td>62</td>\n",
       "      <td>5120</td>\n",
       "      <td>70</td>\n",
       "      <td>405</td>\n",
       "      <td>45</td>\n",
       "      <td>63</td>\n",
       "      <td>1059860</td>\n",
       "      <td>1.0</td>\n",
       "      <td>60</td>\n",
       "      <td>88.1</td>\n",
       "      <td>2</td>\n",
       "      <td>80</td>\n",
       "      <td>80</td>\n",
       "      <td>60</td>\n",
       "      <td>grass</td>\n",
       "      <td>13.0</td>\n",
       "      <td>1</td>\n",
       "    </tr>\n",
       "    <tr>\n",
       "      <th>2</th>\n",
       "      <td>1.0</td>\n",
       "      <td>1.0</td>\n",
       "      <td>1.0</td>\n",
       "      <td>0.5</td>\n",
       "      <td>0.5</td>\n",
       "      <td>0.5</td>\n",
       "      <td>2.0</td>\n",
       "      <td>2.0</td>\n",
       "      <td>1.0</td>\n",
       "      <td>0.25</td>\n",
       "      <td>1.0</td>\n",
       "      <td>2.0</td>\n",
       "      <td>1.0</td>\n",
       "      <td>1.0</td>\n",
       "      <td>2.0</td>\n",
       "      <td>1.0</td>\n",
       "      <td>1.0</td>\n",
       "      <td>0.5</td>\n",
       "      <td>100</td>\n",
       "      <td>5120</td>\n",
       "      <td>70</td>\n",
       "      <td>625</td>\n",
       "      <td>45</td>\n",
       "      <td>123</td>\n",
       "      <td>1059860</td>\n",
       "      <td>2.0</td>\n",
       "      <td>80</td>\n",
       "      <td>88.1</td>\n",
       "      <td>3</td>\n",
       "      <td>122</td>\n",
       "      <td>120</td>\n",
       "      <td>80</td>\n",
       "      <td>grass</td>\n",
       "      <td>100.0</td>\n",
       "      <td>1</td>\n",
       "    </tr>\n",
       "    <tr>\n",
       "      <th>3</th>\n",
       "      <td>0.5</td>\n",
       "      <td>1.0</td>\n",
       "      <td>1.0</td>\n",
       "      <td>1.0</td>\n",
       "      <td>0.5</td>\n",
       "      <td>1.0</td>\n",
       "      <td>0.5</td>\n",
       "      <td>1.0</td>\n",
       "      <td>1.0</td>\n",
       "      <td>0.50</td>\n",
       "      <td>2.0</td>\n",
       "      <td>0.5</td>\n",
       "      <td>1.0</td>\n",
       "      <td>1.0</td>\n",
       "      <td>1.0</td>\n",
       "      <td>2.0</td>\n",
       "      <td>0.5</td>\n",
       "      <td>2.0</td>\n",
       "      <td>52</td>\n",
       "      <td>5120</td>\n",
       "      <td>70</td>\n",
       "      <td>309</td>\n",
       "      <td>45</td>\n",
       "      <td>43</td>\n",
       "      <td>1059860</td>\n",
       "      <td>0.6</td>\n",
       "      <td>39</td>\n",
       "      <td>88.1</td>\n",
       "      <td>4</td>\n",
       "      <td>60</td>\n",
       "      <td>50</td>\n",
       "      <td>65</td>\n",
       "      <td>fire</td>\n",
       "      <td>8.5</td>\n",
       "      <td>1</td>\n",
       "    </tr>\n",
       "    <tr>\n",
       "      <th>4</th>\n",
       "      <td>0.5</td>\n",
       "      <td>1.0</td>\n",
       "      <td>1.0</td>\n",
       "      <td>1.0</td>\n",
       "      <td>0.5</td>\n",
       "      <td>1.0</td>\n",
       "      <td>0.5</td>\n",
       "      <td>1.0</td>\n",
       "      <td>1.0</td>\n",
       "      <td>0.50</td>\n",
       "      <td>2.0</td>\n",
       "      <td>0.5</td>\n",
       "      <td>1.0</td>\n",
       "      <td>1.0</td>\n",
       "      <td>1.0</td>\n",
       "      <td>2.0</td>\n",
       "      <td>0.5</td>\n",
       "      <td>2.0</td>\n",
       "      <td>64</td>\n",
       "      <td>5120</td>\n",
       "      <td>70</td>\n",
       "      <td>405</td>\n",
       "      <td>45</td>\n",
       "      <td>58</td>\n",
       "      <td>1059860</td>\n",
       "      <td>1.1</td>\n",
       "      <td>58</td>\n",
       "      <td>88.1</td>\n",
       "      <td>5</td>\n",
       "      <td>80</td>\n",
       "      <td>65</td>\n",
       "      <td>80</td>\n",
       "      <td>fire</td>\n",
       "      <td>19.0</td>\n",
       "      <td>1</td>\n",
       "    </tr>\n",
       "  </tbody>\n",
       "</table>\n",
       "</div>"
      ],
      "text/plain": [
       "   against_bug  against_dark  against_dragon  against_electric  against_fairy  \\\n",
       "0          1.0           1.0             1.0               0.5            0.5   \n",
       "1          1.0           1.0             1.0               0.5            0.5   \n",
       "2          1.0           1.0             1.0               0.5            0.5   \n",
       "3          0.5           1.0             1.0               1.0            0.5   \n",
       "4          0.5           1.0             1.0               1.0            0.5   \n",
       "\n",
       "   against_fight  against_fire  against_flying  against_ghost  against_grass  \\\n",
       "0            0.5           2.0             2.0            1.0           0.25   \n",
       "1            0.5           2.0             2.0            1.0           0.25   \n",
       "2            0.5           2.0             2.0            1.0           0.25   \n",
       "3            1.0           0.5             1.0            1.0           0.50   \n",
       "4            1.0           0.5             1.0            1.0           0.50   \n",
       "\n",
       "   against_ground  against_ice  against_normal  against_poison  \\\n",
       "0             1.0          2.0             1.0             1.0   \n",
       "1             1.0          2.0             1.0             1.0   \n",
       "2             1.0          2.0             1.0             1.0   \n",
       "3             2.0          0.5             1.0             1.0   \n",
       "4             2.0          0.5             1.0             1.0   \n",
       "\n",
       "   against_psychic  against_rock  against_steel  against_water  attack  \\\n",
       "0              2.0           1.0            1.0            0.5      49   \n",
       "1              2.0           1.0            1.0            0.5      62   \n",
       "2              2.0           1.0            1.0            0.5     100   \n",
       "3              1.0           2.0            0.5            2.0      52   \n",
       "4              1.0           2.0            0.5            2.0      64   \n",
       "\n",
       "   base_egg_steps  base_happiness  base_total  capture_rate  defense  \\\n",
       "0            5120              70         318            45       49   \n",
       "1            5120              70         405            45       63   \n",
       "2            5120              70         625            45      123   \n",
       "3            5120              70         309            45       43   \n",
       "4            5120              70         405            45       58   \n",
       "\n",
       "   experience_growth  height_m  hp  percentage_male  pokedex_number  \\\n",
       "0            1059860       0.7  45             88.1               1   \n",
       "1            1059860       1.0  60             88.1               2   \n",
       "2            1059860       2.0  80             88.1               3   \n",
       "3            1059860       0.6  39             88.1               4   \n",
       "4            1059860       1.1  58             88.1               5   \n",
       "\n",
       "   sp_attack  sp_defense  speed  type1  weight_kg  generation  \n",
       "0         65          65     45  grass        6.9           1  \n",
       "1         80          80     60  grass       13.0           1  \n",
       "2        122         120     80  grass      100.0           1  \n",
       "3         60          50     65   fire        8.5           1  \n",
       "4         80          65     80   fire       19.0           1  "
      ]
     },
     "execution_count": 13,
     "metadata": {},
     "output_type": "execute_result"
    }
   ],
   "source": [
    "X.head()"
   ]
  },
  {
   "cell_type": "code",
   "execution_count": 30,
   "metadata": {},
   "outputs": [],
   "source": [
    "#Determine columns that need mean imputation\n",
    "mean_impute_cols = ['height_m', 'weight_kg', 'percentage_male']\n",
    "#Determine categorical columns that need OneHotEncoding\n",
    "onehot_encode_cols = ['type1']\n",
    "#Determine other columns that only need standard scaling\n",
    "other_cols = [col for col in list(X.columns) if col not in mean_impute_cols + onehot_encode_cols]"
   ]
  },
  {
   "cell_type": "code",
   "execution_count": 60,
   "metadata": {},
   "outputs": [],
   "source": [
    "#Create pipeline for columns that need mean inputation and standard scaling\n",
    "mean_impute_pipe = Pipeline([('impute_mean', SimpleImputer()),\n",
    "                             ('scale', StandardScaler())])\n",
    "#Create pipeline for columns that need OneHotEncoding and standard scaling\n",
    "onehot_encode_pipe = Pipeline([('onehot_encode', OneHotEncoder(drop='first')),\n",
    "                               ('scale', StandardScaler(with_mean=False))])                             \n",
    "#Create pipeline for columns that only need standard scaling\n",
    "other_cols_pipe = Pipeline([('scale', StandardScaler())])"
   ]
  },
  {
   "cell_type": "code",
   "execution_count": 62,
   "metadata": {},
   "outputs": [],
   "source": [
    "#Set up columntransformer to preprocess features\n",
    "col_transformer = ColumnTransformer([('mean_features', mean_impute_pipe, mean_impute_cols),\n",
    "                                     ('onehot_features', onehot_encode_pipe, onehot_encode_cols),\n",
    "                                     ('other_features', other_cols_pipe, other_cols)])"
   ]
  },
  {
   "cell_type": "code",
   "execution_count": 75,
   "metadata": {},
   "outputs": [],
   "source": [
    "#Create pipeline to preprocess data and fit the classifier\n",
    "pipeline = Pipeline([('preprocessing', col_transformer),\n",
    "                     ('rfc', RandomForestClassifier(n_estimators=100))]\n",
    "                   )"
   ]
  },
  {
   "cell_type": "code",
   "execution_count": 76,
   "metadata": {
    "scrolled": false
   },
   "outputs": [],
   "source": [
    "#Fit the classifier model using the pipeline\n",
    "rfc = pipeline.fit(X_train, y_train)"
   ]
  },
  {
   "cell_type": "code",
   "execution_count": 77,
   "metadata": {},
   "outputs": [],
   "source": [
    "#Fit the classifier\n",
    "rfc.fit(X_train, y_train)\n",
    "    \n",
    "#Make predictions to determine if pokemon is legend using test data\n",
    "rfc_pred_y = rfc.predict(X_test)"
   ]
  },
  {
   "cell_type": "code",
   "execution_count": 78,
   "metadata": {
    "scrolled": true
   },
   "outputs": [
    {
     "name": "stdout",
     "output_type": "stream",
     "text": [
      "              precision    recall  f1-score   support\n",
      "\n",
      "           0       1.00      1.00      1.00       223\n",
      "           1       0.94      1.00      0.97        17\n",
      "\n",
      "    accuracy                           1.00       240\n",
      "   macro avg       0.97      1.00      0.98       240\n",
      "weighted avg       1.00      1.00      1.00       240\n",
      "\n",
      "\n",
      "\n",
      "[[222   1]\n",
      " [  0  17]]\n"
     ]
    }
   ],
   "source": [
    "#Use classification report and confusion matrix to evaluate performance\n",
    "#We see that the model is able to quite accurately predict both legendary and non-legendary pokemon\n",
    "#The ability to predict non-legendary pokemon is best\n",
    "#Actually there are only two wrongly classified case where the model predicts the pokemon not to be legendary \n",
    "#while in fact the pokemon is legendary (false negative) \n",
    "print(classification_report(y_test, rfc_pred_y))\n",
    "print('\\n')\n",
    "print(confusion_matrix(y_test, rfc_pred_y))"
   ]
  },
  {
   "cell_type": "code",
   "execution_count": 79,
   "metadata": {
    "scrolled": true
   },
   "outputs": [
    {
     "data": {
      "image/png": "[encoded data removed]",
      "text/plain": [
       "<Figure size 432x288 with 1 Axes>"
      ]
     },
     "metadata": {
      "needs_background": "light"
     },
     "output_type": "display_data"
    }
   ],
   "source": [
    "#Use ROC curve to evalueate performance\n",
    "rfc_roc = plot_roc_curve(rfc,X_test,y_test)\n",
    "plt.show()"
   ]
  },
  {
   "cell_type": "code",
   "execution_count": 81,
   "metadata": {},
   "outputs": [],
   "source": [
    "#Use gridsearch to validate and optimize model\n",
    "#There should be two underscores between estimator name and it's parameters \n",
    "grid_search = GridSearchCV(estimator=pipeline,\n",
    "                           param_grid= {'rfc__n_estimators': [100, 200, 300, 400, 500]},\n",
    "                           cv=5,\n",
    "                           n_jobs=-1,\n",
    "                           scoring='f1'\n",
    "                          )"
   ]
  },
  {
   "cell_type": "code",
   "execution_count": 85,
   "metadata": {
    "scrolled": false
   },
   "outputs": [],
   "source": [
    "#Fit the grid search to the data\n",
    "grid_search.fit(X_train, y_train);"
   ]
  },
  {
   "cell_type": "code",
   "execution_count": 86,
   "metadata": {},
   "outputs": [
    {
     "data": {
      "text/plain": [
       "0.9714285714285714"
      ]
     },
     "execution_count": 86,
     "metadata": {},
     "output_type": "execute_result"
    }
   ],
   "source": [
    "#Get f1-score of model after grid_search\n",
    "grid_search.score(X_test, y_test)"
   ]
  },
  {
   "cell_type": "code",
   "execution_count": 87,
   "metadata": {},
   "outputs": [
    {
     "data": {
      "text/plain": [
       "{'rfc__n_estimators': 100}"
      ]
     },
     "execution_count": 87,
     "metadata": {},
     "output_type": "execute_result"
    }
   ],
   "source": [
    "#View parameters to input in new model\n",
    "grid_search.best_params_"
   ]
  }
 ],
 "metadata": {
  "kernelspec": {
   "display_name": "Python 3",
   "language": "python",
   "name": "python3"
  },
  "language_info": {
   "codemirror_mode": {
    "name": "ipython",
    "version": 3
   },
   "file_extension": ".py",
   "mimetype": "text/x-python",
   "name": "python",
   "nbconvert_exporter": "python",
   "pygments_lexer": "ipython3",
   "version": "3.7.6"
  }
 },
 "nbformat": 4,
 "nbformat_minor": 4
}

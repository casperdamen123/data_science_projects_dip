{
 "cells": [
  {
   "cell_type": "markdown",
   "metadata": {},
   "source": [
    "# Sleep research: Programming Challenge"
   ]
  },
  {
   "cell_type": "code",
   "execution_count": 7,
   "metadata": {},
   "outputs": [],
   "source": [
    "import numpy as np\n",
    "import pandas as pd\n",
    "import matplotlib.pylab as plt\n",
    "import seaborn as sns\n",
    "import os"
   ]
  },
  {
   "cell_type": "code",
   "execution_count": 8,
   "metadata": {},
   "outputs": [
    {
     "data": {
      "text/plain": [
       "'C:\\\\Users\\\\Casper Damen\\\\DiP\\\\Python klasje\\\\notebooks'"
      ]
     },
     "execution_count": 8,
     "metadata": {},
     "output_type": "execute_result"
    }
   ],
   "source": [
    "#Get working directory\n",
    "os.getcwd()"
   ]
  },
  {
   "cell_type": "code",
   "execution_count": 9,
   "metadata": {},
   "outputs": [],
   "source": [
    "#Set working directory\n",
    "os.chdir('C:\\\\Users\\\\Casper Damen\\\\DiP\\\\Python klasje\\\\data')"
   ]
  },
  {
   "cell_type": "code",
   "execution_count": 10,
   "metadata": {
    "scrolled": true
   },
   "outputs": [],
   "source": [
    "df = pd.read_csv('sleep_deprived_coding.csv')"
   ]
  },
  {
   "cell_type": "code",
   "execution_count": 11,
   "metadata": {
    "scrolled": false
   },
   "outputs": [
    {
     "data": {
      "text/html": [
       "<div>\n",
       "<style scoped>\n",
       "    .dataframe tbody tr th:only-of-type {\n",
       "        vertical-align: middle;\n",
       "    }\n",
       "\n",
       "    .dataframe tbody tr th {\n",
       "        vertical-align: top;\n",
       "    }\n",
       "\n",
       "    .dataframe thead th {\n",
       "        text-align: right;\n",
       "    }\n",
       "</style>\n",
       "<table border=\"1\" class=\"dataframe\">\n",
       "  <thead>\n",
       "    <tr style=\"text-align: right;\">\n",
       "      <th></th>\n",
       "      <th>id</th>\n",
       "      <th>gpa</th>\n",
       "      <th>sleep</th>\n",
       "      <th>passed_unit_tests</th>\n",
       "      <th>passed_asserts</th>\n",
       "      <th>tackled_user_stories</th>\n",
       "    </tr>\n",
       "  </thead>\n",
       "  <tbody>\n",
       "    <tr>\n",
       "      <th>0</th>\n",
       "      <td>1</td>\n",
       "      <td>23</td>\n",
       "      <td>normal</td>\n",
       "      <td>5</td>\n",
       "      <td>6</td>\n",
       "      <td>5</td>\n",
       "    </tr>\n",
       "    <tr>\n",
       "      <th>1</th>\n",
       "      <td>2</td>\n",
       "      <td>24</td>\n",
       "      <td>normal</td>\n",
       "      <td>1</td>\n",
       "      <td>3</td>\n",
       "      <td>2</td>\n",
       "    </tr>\n",
       "    <tr>\n",
       "      <th>2</th>\n",
       "      <td>3</td>\n",
       "      <td>23</td>\n",
       "      <td>normal</td>\n",
       "      <td>7</td>\n",
       "      <td>6</td>\n",
       "      <td>5</td>\n",
       "    </tr>\n",
       "    <tr>\n",
       "      <th>3</th>\n",
       "      <td>4</td>\n",
       "      <td>28</td>\n",
       "      <td>normal</td>\n",
       "      <td>5</td>\n",
       "      <td>8</td>\n",
       "      <td>4</td>\n",
       "    </tr>\n",
       "    <tr>\n",
       "      <th>4</th>\n",
       "      <td>5</td>\n",
       "      <td>25</td>\n",
       "      <td>normal</td>\n",
       "      <td>4</td>\n",
       "      <td>5</td>\n",
       "      <td>3</td>\n",
       "    </tr>\n",
       "  </tbody>\n",
       "</table>\n",
       "</div>"
      ],
      "text/plain": [
       "   id  gpa   sleep  passed_unit_tests  passed_asserts  tackled_user_stories\n",
       "0   1   23  normal                  5               6                     5\n",
       "1   2   24  normal                  1               3                     2\n",
       "2   3   23  normal                  7               6                     5\n",
       "3   4   28  normal                  5               8                     4\n",
       "4   5   25  normal                  4               5                     3"
      ]
     },
     "execution_count": 11,
     "metadata": {},
     "output_type": "execute_result"
    }
   ],
   "source": [
    "df.head()"
   ]
  },
  {
   "cell_type": "code",
   "execution_count": 40,
   "metadata": {
    "scrolled": false
   },
   "outputs": [
    {
     "data": {
      "text/html": [
       "<div>\n",
       "<style scoped>\n",
       "    .dataframe tbody tr th:only-of-type {\n",
       "        vertical-align: middle;\n",
       "    }\n",
       "\n",
       "    .dataframe tbody tr th {\n",
       "        vertical-align: top;\n",
       "    }\n",
       "\n",
       "    .dataframe thead th {\n",
       "        text-align: right;\n",
       "    }\n",
       "</style>\n",
       "<table border=\"1\" class=\"dataframe\">\n",
       "  <thead>\n",
       "    <tr style=\"text-align: right;\">\n",
       "      <th></th>\n",
       "      <th>id</th>\n",
       "      <th>gpa</th>\n",
       "      <th>passed_unit_tests</th>\n",
       "      <th>passed_asserts</th>\n",
       "      <th>tackled_user_stories</th>\n",
       "    </tr>\n",
       "  </thead>\n",
       "  <tbody>\n",
       "    <tr>\n",
       "      <th>count</th>\n",
       "      <td>36.000000</td>\n",
       "      <td>36.000000</td>\n",
       "      <td>36.000000</td>\n",
       "      <td>36.000000</td>\n",
       "      <td>36.00000</td>\n",
       "    </tr>\n",
       "    <tr>\n",
       "      <th>mean</th>\n",
       "      <td>20.944444</td>\n",
       "      <td>24.194444</td>\n",
       "      <td>2.166667</td>\n",
       "      <td>4.250000</td>\n",
       "      <td>2.25000</td>\n",
       "    </tr>\n",
       "    <tr>\n",
       "      <th>std</th>\n",
       "      <td>12.857337</td>\n",
       "      <td>2.025825</td>\n",
       "      <td>2.248809</td>\n",
       "      <td>1.696635</td>\n",
       "      <td>1.40153</td>\n",
       "    </tr>\n",
       "    <tr>\n",
       "      <th>min</th>\n",
       "      <td>1.000000</td>\n",
       "      <td>20.000000</td>\n",
       "      <td>0.000000</td>\n",
       "      <td>2.000000</td>\n",
       "      <td>0.00000</td>\n",
       "    </tr>\n",
       "    <tr>\n",
       "      <th>25%</th>\n",
       "      <td>10.750000</td>\n",
       "      <td>23.000000</td>\n",
       "      <td>0.000000</td>\n",
       "      <td>3.000000</td>\n",
       "      <td>1.00000</td>\n",
       "    </tr>\n",
       "    <tr>\n",
       "      <th>50%</th>\n",
       "      <td>19.500000</td>\n",
       "      <td>24.000000</td>\n",
       "      <td>1.000000</td>\n",
       "      <td>4.000000</td>\n",
       "      <td>2.00000</td>\n",
       "    </tr>\n",
       "    <tr>\n",
       "      <th>75%</th>\n",
       "      <td>31.250000</td>\n",
       "      <td>25.250000</td>\n",
       "      <td>4.000000</td>\n",
       "      <td>5.000000</td>\n",
       "      <td>3.00000</td>\n",
       "    </tr>\n",
       "    <tr>\n",
       "      <th>max</th>\n",
       "      <td>45.000000</td>\n",
       "      <td>28.000000</td>\n",
       "      <td>7.000000</td>\n",
       "      <td>8.000000</td>\n",
       "      <td>5.00000</td>\n",
       "    </tr>\n",
       "  </tbody>\n",
       "</table>\n",
       "</div>"
      ],
      "text/plain": [
       "              id        gpa  passed_unit_tests  passed_asserts  \\\n",
       "count  36.000000  36.000000          36.000000       36.000000   \n",
       "mean   20.944444  24.194444           2.166667        4.250000   \n",
       "std    12.857337   2.025825           2.248809        1.696635   \n",
       "min     1.000000  20.000000           0.000000        2.000000   \n",
       "25%    10.750000  23.000000           0.000000        3.000000   \n",
       "50%    19.500000  24.000000           1.000000        4.000000   \n",
       "75%    31.250000  25.250000           4.000000        5.000000   \n",
       "max    45.000000  28.000000           7.000000        8.000000   \n",
       "\n",
       "       tackled_user_stories  \n",
       "count              36.00000  \n",
       "mean                2.25000  \n",
       "std                 1.40153  \n",
       "min                 0.00000  \n",
       "25%                 1.00000  \n",
       "50%                 2.00000  \n",
       "75%                 3.00000  \n",
       "max                 5.00000  "
      ]
     },
     "execution_count": 40,
     "metadata": {},
     "output_type": "execute_result"
    }
   ],
   "source": [
    "df.describe()"
   ]
  },
  {
   "cell_type": "markdown",
   "metadata": {},
   "source": [
    "## Data Exploration"
   ]
  },
  {
   "cell_type": "code",
   "execution_count": 361,
   "metadata": {},
   "outputs": [
    {
     "data": {
      "text/plain": [
       "<seaborn.axisgrid.PairGrid at 0x2379f074148>"
      ]
     },
     "execution_count": 361,
     "metadata": {},
     "output_type": "execute_result"
    },
    {
     "data": {
      "image/png": "[encoded data removed]",
      "text/plain": [
       "<Figure size 980.125x900 with 30 Axes>"
      ]
     },
     "metadata": {
      "needs_background": "light"
     },
     "output_type": "display_data"
    }
   ],
   "source": [
    "#Visualize the distribution using normal/deprived as hue\n",
    "sns.pairplot(df, hue='sleep')"
   ]
  },
  {
   "cell_type": "code",
   "execution_count": 362,
   "metadata": {},
   "outputs": [],
   "source": [
    "#Create function to generate aggregated table grouped by normal and deprived\n",
    "def aggregate_sleep_groups(dataf):\n",
    "    \n",
    "    agg_dataf = (dataf\n",
    "                 .groupby('sleep')\n",
    "                 .agg(n=('id', 'count'),\n",
    "                      mean_gpa=('gpa', np.mean),\n",
    "                      mean_unit_tests=('passed_unit_tests', np.mean),\n",
    "                      mean_asserts=('passed_asserts', np.mean),\n",
    "                      mean_user_stories=('tackled_user_stories', np.mean))\n",
    "                )\n",
    "    return agg_dataf"
   ]
  },
  {
   "cell_type": "code",
   "execution_count": 364,
   "metadata": {},
   "outputs": [
    {
     "data": {
      "text/html": [
       "<div>\n",
       "<style scoped>\n",
       "    .dataframe tbody tr th:only-of-type {\n",
       "        vertical-align: middle;\n",
       "    }\n",
       "\n",
       "    .dataframe tbody tr th {\n",
       "        vertical-align: top;\n",
       "    }\n",
       "\n",
       "    .dataframe thead th {\n",
       "        text-align: right;\n",
       "    }\n",
       "</style>\n",
       "<table border=\"1\" class=\"dataframe\">\n",
       "  <thead>\n",
       "    <tr style=\"text-align: right;\">\n",
       "      <th></th>\n",
       "      <th>n</th>\n",
       "      <th>mean_gpa</th>\n",
       "      <th>mean_unit_tests</th>\n",
       "      <th>mean_asserts</th>\n",
       "      <th>mean_user_stories</th>\n",
       "    </tr>\n",
       "    <tr>\n",
       "      <th>sleep</th>\n",
       "      <th></th>\n",
       "      <th></th>\n",
       "      <th></th>\n",
       "      <th></th>\n",
       "      <th></th>\n",
       "    </tr>\n",
       "  </thead>\n",
       "  <tbody>\n",
       "    <tr>\n",
       "      <th>deprived</th>\n",
       "      <td>15</td>\n",
       "      <td>24.400000</td>\n",
       "      <td>1.133333</td>\n",
       "      <td>3.266667</td>\n",
       "      <td>1.600000</td>\n",
       "    </tr>\n",
       "    <tr>\n",
       "      <th>normal</th>\n",
       "      <td>21</td>\n",
       "      <td>24.047619</td>\n",
       "      <td>2.904762</td>\n",
       "      <td>4.952381</td>\n",
       "      <td>2.714286</td>\n",
       "    </tr>\n",
       "  </tbody>\n",
       "</table>\n",
       "</div>"
      ],
      "text/plain": [
       "           n   mean_gpa  mean_unit_tests  mean_asserts  mean_user_stories\n",
       "sleep                                                                    \n",
       "deprived  15  24.400000         1.133333      3.266667           1.600000\n",
       "normal    21  24.047619         2.904762      4.952381           2.714286"
      ]
     },
     "execution_count": 364,
     "metadata": {},
     "output_type": "execute_result"
    }
   ],
   "source": [
    "#Use aggregated function to show means from both groups\n",
    "agg_dataf = df.pipe(aggregate_sleep_groups)\n",
    "agg_dataf"
   ]
  },
  {
   "cell_type": "code",
   "execution_count": 312,
   "metadata": {},
   "outputs": [
    {
     "data": {
      "image/png": "[encoded data removed]",
      "text/plain": [
       "<Figure size 720x576 with 4 Axes>"
      ]
     },
     "metadata": {
      "needs_background": "light"
     },
     "output_type": "display_data"
    }
   ],
   "source": [
    "#Visualize the difference using barplots\n",
    "fig, ((ax1, ax2), (ax3, ax4)) = plt.subplots(figsize=(10,8),nrows=2, ncols=2, sharex=False, sharey=False)\n",
    "\n",
    "for ax, column in zip(fig.axes, agg_dataf.columns[1:]):\n",
    "    sns.barplot(x=agg_dataf.index, y=column, data=agg_dataf, ax=ax)"
   ]
  },
  {
   "cell_type": "markdown",
   "metadata": {},
   "source": [
    "## Sampling\n",
    "In order to check whether the observed coding performance difference between the sleep and deprived group is due to chance, we are going to take a lot of random samples and check the mean distribution."
   ]
  },
  {
   "cell_type": "code",
   "execution_count": 366,
   "metadata": {},
   "outputs": [],
   "source": [
    "#Two functions to take random samples and calculate the difference.\n",
    "\n",
    "#Function to shuffle id's and assign deprived (15) versus normal (21) randomly.\n",
    "def reshuffle(dataf):\n",
    "    \n",
    "    shuffled_dataf = (dataf\n",
    "                      .sample(dataf['id'].count())\n",
    "                      .reset_index(drop=True)\n",
    "                      .assign(sleep=lambda d: np.where(d.index < 15, 'deprived', 'normal'))\n",
    "                     )\n",
    "    \n",
    "    return shuffled_dataf\n",
    "\n",
    "#Function to calculate difference between deprived and normal group\n",
    "def calc_diff_sleep(dataf):\n",
    "    \n",
    "    agg_dataf = (dataf\n",
    "                        .groupby('sleep')\n",
    "                        .agg(mean_unit_tests=('passed_unit_tests', np.mean),\n",
    "                             mean_asserts=('passed_asserts', np.mean),\n",
    "                             mean_user_stories=('tackled_user_stories', np.mean))\n",
    "                       ).T\n",
    "    \n",
    "    difference_dataf = agg_dataf['deprived'] - agg_dataf['normal'] \n",
    "    \n",
    "    return difference_dataf"
   ]
  },
  {
   "cell_type": "code",
   "execution_count": 367,
   "metadata": {},
   "outputs": [],
   "source": [
    "#Function to store the differences between deprived and normal group from samples, take 1000 samples by default\n",
    "def shuffle_simulation(dataf, n=1000):\n",
    "    \n",
    "    results = np.zeros((n, 3))\n",
    "    \n",
    "    for i in range(n):\n",
    "        results[i, :] = calc_diff_sleep(reshuffle(dataf))\n",
    "        \n",
    "    results_difference_dataf = pd.DataFrame(results,\n",
    "                                            columns=['diff_unit_tests',\n",
    "                                                     'diff_asserts',\n",
    "                                                     'diff_user_stories'])\n",
    "    return results_difference_dataf"
   ]
  },
  {
   "cell_type": "code",
   "execution_count": 381,
   "metadata": {},
   "outputs": [],
   "source": [
    "sample_dataf_diff = df.pipe(shuffle_simulation)"
   ]
  },
  {
   "cell_type": "code",
   "execution_count": 382,
   "metadata": {
    "scrolled": true
   },
   "outputs": [
    {
     "data": {
      "text/html": [
       "<div>\n",
       "<style scoped>\n",
       "    .dataframe tbody tr th:only-of-type {\n",
       "        vertical-align: middle;\n",
       "    }\n",
       "\n",
       "    .dataframe tbody tr th {\n",
       "        vertical-align: top;\n",
       "    }\n",
       "\n",
       "    .dataframe thead th {\n",
       "        text-align: right;\n",
       "    }\n",
       "</style>\n",
       "<table border=\"1\" class=\"dataframe\">\n",
       "  <thead>\n",
       "    <tr style=\"text-align: right;\">\n",
       "      <th></th>\n",
       "      <th>diff_unit_tests</th>\n",
       "      <th>diff_asserts</th>\n",
       "      <th>diff_user_stories</th>\n",
       "    </tr>\n",
       "  </thead>\n",
       "  <tbody>\n",
       "    <tr>\n",
       "      <th>0</th>\n",
       "      <td>0.514286</td>\n",
       "      <td>0.485714</td>\n",
       "      <td>0.371429</td>\n",
       "    </tr>\n",
       "    <tr>\n",
       "      <th>1</th>\n",
       "      <td>-0.057143</td>\n",
       "      <td>-0.428571</td>\n",
       "      <td>-0.314286</td>\n",
       "    </tr>\n",
       "    <tr>\n",
       "      <th>2</th>\n",
       "      <td>-0.971429</td>\n",
       "      <td>-0.428571</td>\n",
       "      <td>-0.657143</td>\n",
       "    </tr>\n",
       "    <tr>\n",
       "      <th>3</th>\n",
       "      <td>-0.742857</td>\n",
       "      <td>-0.314286</td>\n",
       "      <td>-0.771429</td>\n",
       "    </tr>\n",
       "    <tr>\n",
       "      <th>4</th>\n",
       "      <td>-0.057143</td>\n",
       "      <td>-0.314286</td>\n",
       "      <td>-0.314286</td>\n",
       "    </tr>\n",
       "  </tbody>\n",
       "</table>\n",
       "</div>"
      ],
      "text/plain": [
       "   diff_unit_tests  diff_asserts  diff_user_stories\n",
       "0         0.514286      0.485714           0.371429\n",
       "1        -0.057143     -0.428571          -0.314286\n",
       "2        -0.971429     -0.428571          -0.657143\n",
       "3        -0.742857     -0.314286          -0.771429\n",
       "4        -0.057143     -0.314286          -0.314286"
      ]
     },
     "execution_count": 382,
     "metadata": {},
     "output_type": "execute_result"
    }
   ],
   "source": [
    "sample_dataf_diff.head()"
   ]
  },
  {
   "cell_type": "markdown",
   "metadata": {},
   "source": [
    "## Analyze sampling distribution"
   ]
  },
  {
   "cell_type": "markdown",
   "metadata": {},
   "source": [
    "### Check for differences between sleep and deprived group"
   ]
  },
  {
   "cell_type": "code",
   "execution_count": 383,
   "metadata": {},
   "outputs": [],
   "source": [
    "#Create function to plot the group difference in sample distributions\n",
    "#Draw a line to illustrate the difference in the original dataset\n",
    "def plot_diff(dataf):\n",
    "    \n",
    "    plt.figure(figsize=(16,4))\n",
    "\n",
    "    dict_diff = dict(dataf)\n",
    "\n",
    "    for idx, name in enumerate(['unit_tests', 'asserts', 'user_stories']):\n",
    "        plt.subplot(131 + idx)\n",
    "        plt.hist(sample_dataf_diff[f'diff_{name}'])\n",
    "        plt.vlines(dict_diff[f'mean_{name}'], 0, 300, color='red')\n",
    "        plt.title(name)"
   ]
  },
  {
   "cell_type": "code",
   "execution_count": 384,
   "metadata": {},
   "outputs": [
    {
     "data": {
      "image/png": "[encoded data removed]",
      "text/plain": [
       "<Figure size 1152x288 with 3 Axes>"
      ]
     },
     "metadata": {
      "needs_background": "light"
     },
     "output_type": "display_data"
    }
   ],
   "source": [
    "df.pipe(calc_diff_sleep).pipe(plot_diff_sleep)"
   ]
  },
  {
   "cell_type": "code",
   "execution_count": 385,
   "metadata": {},
   "outputs": [],
   "source": [
    "#Function to return a dataframe with the probabilities to find a difference as big as we found due to chance.\n",
    "#For the sleep groups\n",
    "def chance_diff_sleep(sample_dataf, original_dataf):\n",
    "    \n",
    "    dict_diff = dict(calc_diff_sleep(original_dataf))\n",
    "    \n",
    "    chance_results = {}\n",
    "    \n",
    "    for column, value in zip(sample_dataf.columns, dict_diff.values()):\n",
    "        chance_results[column] = sample_dataf.assign(limit=lambda d: d[column] < value)['limit'].mean()\n",
    "\n",
    "    chance_dataf = pd.DataFrame(chance_results.values(),\n",
    "                                index=chance_results.keys(),\n",
    "                                columns=['chance_diff'])\n",
    "    \n",
    "    return chance_dataf    "
   ]
  },
  {
   "cell_type": "code",
   "execution_count": 386,
   "metadata": {
    "scrolled": false
   },
   "outputs": [
    {
     "data": {
      "text/html": [
       "<div>\n",
       "<style scoped>\n",
       "    .dataframe tbody tr th:only-of-type {\n",
       "        vertical-align: middle;\n",
       "    }\n",
       "\n",
       "    .dataframe tbody tr th {\n",
       "        vertical-align: top;\n",
       "    }\n",
       "\n",
       "    .dataframe thead th {\n",
       "        text-align: right;\n",
       "    }\n",
       "</style>\n",
       "<table border=\"1\" class=\"dataframe\">\n",
       "  <thead>\n",
       "    <tr style=\"text-align: right;\">\n",
       "      <th></th>\n",
       "      <th>chance_diff</th>\n",
       "    </tr>\n",
       "  </thead>\n",
       "  <tbody>\n",
       "    <tr>\n",
       "      <th>diff_unit_tests</th>\n",
       "      <td>0.009</td>\n",
       "    </tr>\n",
       "    <tr>\n",
       "      <th>diff_asserts</th>\n",
       "      <td>0.000</td>\n",
       "    </tr>\n",
       "    <tr>\n",
       "      <th>diff_user_stories</th>\n",
       "      <td>0.008</td>\n",
       "    </tr>\n",
       "  </tbody>\n",
       "</table>\n",
       "</div>"
      ],
      "text/plain": [
       "                   chance_diff\n",
       "diff_unit_tests          0.009\n",
       "diff_asserts             0.000\n",
       "diff_user_stories        0.008"
      ]
     },
     "execution_count": 386,
     "metadata": {},
     "output_type": "execute_result"
    }
   ],
   "source": [
    "sample_dataf_diff.pipe(chance_diff_sleep, original_dataf=df)"
   ]
  },
  {
   "cell_type": "markdown",
   "metadata": {},
   "source": [
    "### Check for differences between different levels of GPA"
   ]
  },
  {
   "cell_type": "code",
   "execution_count": 387,
   "metadata": {},
   "outputs": [],
   "source": [
    "#Function to calculate difference between high and low GPA group\n",
    "def calc_diff_gpa(dataf):\n",
    "    \n",
    "    agg_dataf = (dataf\n",
    "                        .assign(gpa=lambda d: d['gpa'] < d['gpa'].mean())\n",
    "                        .groupby('gpa')\n",
    "                        .agg(mean_unit_tests=('passed_unit_tests', np.mean),\n",
    "                             mean_asserts=('passed_asserts', np.mean),\n",
    "                             mean_user_stories=('tackled_user_stories', np.mean))\n",
    "                       ).T\n",
    "    \n",
    "    difference_dataf = agg_dataf[False] - agg_dataf[True] \n",
    "    \n",
    "    return difference_dataf"
   ]
  },
  {
   "cell_type": "code",
   "execution_count": 388,
   "metadata": {},
   "outputs": [
    {
     "data": {
      "image/png": "[encoded data removed]",
      "text/plain": [
       "<Figure size 1152x288 with 3 Axes>"
      ]
     },
     "metadata": {
      "needs_background": "light"
     },
     "output_type": "display_data"
    }
   ],
   "source": [
    "df.pipe(calc_diff_gpa).pipe(plot_diff)"
   ]
  },
  {
   "cell_type": "code",
   "execution_count": 389,
   "metadata": {},
   "outputs": [],
   "source": [
    "#Function to return a dataframe with the probabilities to find a difference as big as we found due to chance.\n",
    "#For the GPA groups\n",
    "def chance_diff_gpa(sample_dataf, original_dataf):\n",
    "    \n",
    "    dict_diff = dict(calc_diff_gpa(original_dataf))\n",
    "    \n",
    "    chance_results = {}\n",
    "    \n",
    "    for column, value in zip(sample_dataf.columns, dict_diff.values()):\n",
    "        chance_results[column] = sample_dataf.assign(limit=lambda d: d[column] < value)['limit'].mean()\n",
    "\n",
    "    chance_dataf = pd.DataFrame(chance_results.values(),\n",
    "                                index=chance_results.keys(),\n",
    "                                columns=['chance_diff'])\n",
    "\n",
    "    return chance_dataf  "
   ]
  },
  {
   "cell_type": "code",
   "execution_count": 390,
   "metadata": {},
   "outputs": [
    {
     "data": {
      "text/html": [
       "<div>\n",
       "<style scoped>\n",
       "    .dataframe tbody tr th:only-of-type {\n",
       "        vertical-align: middle;\n",
       "    }\n",
       "\n",
       "    .dataframe tbody tr th {\n",
       "        vertical-align: top;\n",
       "    }\n",
       "\n",
       "    .dataframe thead th {\n",
       "        text-align: right;\n",
       "    }\n",
       "</style>\n",
       "<table border=\"1\" class=\"dataframe\">\n",
       "  <thead>\n",
       "    <tr style=\"text-align: right;\">\n",
       "      <th></th>\n",
       "      <th>chance_diff</th>\n",
       "    </tr>\n",
       "  </thead>\n",
       "  <tbody>\n",
       "    <tr>\n",
       "      <th>diff_unit_tests</th>\n",
       "      <td>0.632</td>\n",
       "    </tr>\n",
       "    <tr>\n",
       "      <th>diff_asserts</th>\n",
       "      <td>0.704</td>\n",
       "    </tr>\n",
       "    <tr>\n",
       "      <th>diff_user_stories</th>\n",
       "      <td>0.588</td>\n",
       "    </tr>\n",
       "  </tbody>\n",
       "</table>\n",
       "</div>"
      ],
      "text/plain": [
       "                   chance_diff\n",
       "diff_unit_tests          0.632\n",
       "diff_asserts             0.704\n",
       "diff_user_stories        0.588"
      ]
     },
     "execution_count": 390,
     "metadata": {},
     "output_type": "execute_result"
    }
   ],
   "source": [
    "sample_dataf_diff.pipe(chance_diff_gpa, original_dataf=df)"
   ]
  }
 ],
 "metadata": {
  "kernelspec": {
   "display_name": "Python 3",
   "language": "python",
   "name": "python3"
  },
  "language_info": {
   "codemirror_mode": {
    "name": "ipython",
    "version": 3
   },
   "file_extension": ".py",
   "mimetype": "text/x-python",
   "name": "python",
   "nbconvert_exporter": "python",
   "pygments_lexer": "ipython3",
   "version": "3.7.6"
  }
 },
 "nbformat": 4,
 "nbformat_minor": 4
}
